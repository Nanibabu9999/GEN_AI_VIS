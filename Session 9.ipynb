{
  "nbformat": 4,
  "nbformat_minor": 0,
  "metadata": {
    "colab": {
      "provenance": []
    },
    "kernelspec": {
      "name": "python3",
      "display_name": "Python 3"
    },
    "language_info": {
      "name": "python"
    }
  },
  "cells": [
    {
      "cell_type": "markdown",
      "source": [
        " **Introduction to Streamlit**"
      ],
      "metadata": {
        "id": "RsHt4hvlJu_N"
      }
    },
    {
      "cell_type": "markdown",
      "source": [
        " IDE like Visual Studio Code and Python Installed (Recommended)\n",
        "\n",
        "Requirements:\n",
        "Python (3.7 or later)\n",
        "PIP (Python package installer)\n",
        "\n",
        "for Testing\n",
        "py.cafe\n",
        "or codespaces"
      ],
      "metadata": {
        "id": "6vXpP46UJ0NV"
      }
    },
    {
      "cell_type": "markdown",
      "source": [
        "**Run this below line in Terminal**"
      ],
      "metadata": {
        "id": "NIpZ4DLkNRJd"
      }
    },
    {
      "cell_type": "code",
      "source": [
        "pip install streamlit groq\n"
      ],
      "metadata": {
        "id": "teEwpxHNJ76A"
      },
      "execution_count": null,
      "outputs": []
    },
    {
      "cell_type": "markdown",
      "source": [
        "**main.py**"
      ],
      "metadata": {
        "id": "V3gTNzhdNOgr"
      }
    },
    {
      "cell_type": "code",
      "source": [
        "import streamlit as st\n",
        "from groq import Groq\n",
        "\n",
        "# Initialize the Groq client\n",
        "GROQ_API_KEY = 'GROQ_KEY'\n",
        "client = Groq(api_key=GROQ_API_KEY)\n",
        "MODEL = 'llama3-70b-8192'\n",
        "\n",
        "def get_groq_response(question):\n",
        "    messages = [\n",
        "        {\n",
        "            \"role\": \"system\",\n",
        "            \"content\": \"You are an AI assistant that answers questions.\"\n",
        "        },\n",
        "        {\n",
        "            \"role\": \"user\",\n",
        "            \"content\": question,\n",
        "        }\n",
        "    ]\n",
        "\n",
        "    response = client.chat.completions.create(\n",
        "        model=MODEL,\n",
        "        messages=messages,\n",
        "        max_tokens=4096\n",
        "    )\n",
        "\n",
        "    return response.choices[0].message.content\n",
        "\n",
        "# Streamlit app title\n",
        "st.title(\"Simple Search App\")\n",
        "\n",
        "# Input box for user query\n",
        "query = st.text_input(\"Enter your query:\")\n",
        "\n",
        "# Button to get response\n",
        "if st.button(\"Search\"):\n",
        "    if query:\n",
        "        # Get the response from the Groq model\n",
        "        response = get_groq_response(query)\n",
        "        # Display the response\n",
        "        st.write(\"Response:\", response)\n",
        "    else:\n",
        "        st.write(\"Please enter a query.\")\n"
      ],
      "metadata": {
        "id": "525uLJLJKSBI"
      },
      "execution_count": null,
      "outputs": []
    },
    {
      "cell_type": "markdown",
      "source": [
        "**requirements.txt**"
      ],
      "metadata": {
        "id": "THNCdvCZNiEX"
      }
    },
    {
      "cell_type": "code",
      "source": [
        "  streamlit==1.27.2  # currently pinned to this version\n",
        "  groq\n"
      ],
      "metadata": {
        "id": "c66vrcPlOD0X"
      },
      "execution_count": null,
      "outputs": []
    },
    {
      "cell_type": "markdown",
      "source": [
        "**Code to run the application**"
      ],
      "metadata": {
        "id": "TjJBIa-lZE2_"
      }
    },
    {
      "cell_type": "code",
      "source": [
        "pip install -r requirements.txt\n",
        "streamlit run main.py"
      ],
      "metadata": {
        "id": "GQkeEWCpZJKW"
      },
      "execution_count": null,
      "outputs": []
    },
    {
      "cell_type": "markdown",
      "source": [
        "**Instructions**"
      ],
      "metadata": {
        "id": "hU__d3KaZRmi"
      }
    },
    {
      "cell_type": "markdown",
      "source": [
        "Download - Visual Studio Code - https://code.visualstudio.com/download\n",
        "\n",
        "python download - https://www.python.org/downloads/"
      ],
      "metadata": {
        "id": "TvJJvG9tUdj-"
      }
    },
    {
      "cell_type": "markdown",
      "source": [
        "**Or alternatively**"
      ],
      "metadata": {
        "id": "2ZAiTISPZWFP"
      }
    },
    {
      "cell_type": "markdown",
      "source": [
        "Open a Github Profile - create a private repo - open the repo in codespaces create the two files - open the terminal and run the code as given above"
      ],
      "metadata": {
        "id": "yt1uq6TzY58h"
      }
    }
  ]
}