{
  "cells": [
    {
      "cell_type": "markdown",
      "metadata": {
        "id": "view-in-github",
        "colab_type": "text"
      },
      "source": [
        "<a href=\"https://colab.research.google.com/github/Nanibabu9999/GEN_AI_VIS/blob/main/Session_22.ipynb\" target=\"_parent\"><img src=\"https://colab.research.google.com/assets/colab-badge.svg\" alt=\"Open In Colab\"/></a>"
      ]
    },
    {
      "cell_type": "code",
      "source": [
        "Use this link to give for photo - https://replicate.delivery/pbxt/LKnw8rSgafZf4IlAVyPhzpX1TpTVcyfRa1saoaoiSfUYZLiL/fermat_app_a_living_room_modern_and_minimalistic_39b5a58a-e05b-4281-ac24-e87435256333-1.webp"
      ],
      "metadata": {
        "id": "D-0uTostJBnh"
      },
      "execution_count": null,
      "outputs": []
    },
    {
      "cell_type": "markdown",
      "source": [
        "**Filename ** - main.py"
      ],
      "metadata": {
        "id": "RU4PAgajaabQ"
      }
    },
    {
      "cell_type": "code",
      "source": [
        "import streamlit as st\n",
        "import replicate\n",
        "import os\n",
        "from streamlit_image_comparison import image_comparison\n",
        "\n",
        "# Set your Replicate API token\n",
        "REPLICATE_API_TOKEN = \"r8_3ZnCHTpjOrwqIsutvLwVgniRwxJpPGX1InXP1\"  # Replace with your actual Replicate API token\n",
        "os.environ[\"REPLICATE_API_TOKEN\"] = REPLICATE_API_TOKEN\n",
        "\n",
        "# Streamlit app\n",
        "st.title(\"High-Resolution ControlNet Tile Transformer\")\n",
        "\n",
        "# Input for external image link\n",
        "image_url = st.text_input(\"Enter the external image URL\", placeholder=\"https://example.com/your-image.jpg\")\n",
        "\n",
        "# Display the original image\n",
        "if image_url:\n",
        "    st.image(image_url, caption=\"Original Image\", use_column_width=True)\n",
        "\n",
        "# Prompt input\n",
        "prompt = st.text_area(\"Enter your design prompt\", placeholder=\"Describe your desired image transformation...\")\n",
        "\n",
        "# Optional parameters\n",
        "hdr = st.selectbox(\"HDR\", options=[0, 1], index=0)\n",
        "steps = st.slider(\"Steps\", min_value=1, max_value=100, value=20, step=1)\n",
        "scheduler = st.selectbox(\"Scheduler\", options=[\"DDIM\", \"PLMS\", \"LMSD\"], index=0)\n",
        "creativity = st.slider(\"Creativity\", min_value=0.0, max_value=1.0, value=0.15, step=0.01)\n",
        "guess_mode = st.selectbox(\"Guess Mode\", options=[True, False], index=1)\n",
        "resolution = st.slider(\"Resolution\", min_value=512, max_value=4096, value=2048, step=256)\n",
        "resemblance = st.slider(\"Resemblance\", min_value=0.0, max_value=1.0, value=0.99, step=0.01)\n",
        "guidance_scale = st.slider(\"Guidance Scale\", min_value=0, max_value=20, value=5, step=1)\n",
        "negative_prompt = st.text_area(\"Negative Prompt (optional)\", placeholder=\"e.g., Teeth, tooth, longbody, lowres, etc.\")\n",
        "lora_details_strength = st.slider(\"Lora Details Strength\", min_value=0.0, max_value=2.0, value=0.75, step=0.05)\n",
        "lora_sharpness_strength = st.slider(\"Lora Sharpness Strength\", min_value=0.0, max_value=2.0, value=1.25, step=0.05)\n",
        "\n",
        "# Generate Design\n",
        "if st.button(\"Generate Design\"):\n",
        "    if image_url and prompt:\n",
        "        try:\n",
        "            # Run the model\n",
        "            output = replicate.run(\n",
        "                \"batouresearch/high-resolution-controlnet-tile:8e6a54d7b2848c48dc741a109d3fb0ea2a7f554eb4becd39a25cc532536ea975\",\n",
        "                input={\n",
        "                    \"hdr\": hdr,\n",
        "                    \"image\": image_url,\n",
        "                    \"steps\": steps,\n",
        "                    \"prompt\": prompt,\n",
        "                    \"scheduler\": scheduler,\n",
        "                    \"creativity\": creativity,\n",
        "                    \"guess_mode\": guess_mode,\n",
        "                    \"resolution\": resolution,\n",
        "                    \"resemblance\": resemblance,\n",
        "                    \"guidance_scale\": guidance_scale,\n",
        "                    \"negative_prompt\": negative_prompt,\n",
        "                    \"lora_details_strength\": lora_details_strength,\n",
        "                    \"lora_sharpness_strength\": lora_sharpness_strength,\n",
        "                }\n",
        "            )\n",
        "\n",
        "            # Display the image comparison slider\n",
        "            st.write(\"## Compare the Original and Transformed Image\")\n",
        "            image_comparison(\n",
        "                img1=image_url,  # Original image\n",
        "                img2=output,  # Transformed image\n",
        "                label1=\"Original Image\",\n",
        "                label2=\"Transformed Image\",\n",
        "                width=700  # Adjust width as necessary\n",
        "            )\n",
        "\n",
        "        except replicate.exceptions.ReplicateError as e:\n",
        "            st.error(f\"Error: {e}\")\n",
        "    else:\n",
        "        st.error(\"Please enter an image URL and a prompt.\")\n"
      ],
      "metadata": {
        "id": "3UNFM9YF8LrP"
      },
      "execution_count": null,
      "outputs": []
    },
    {
      "cell_type": "markdown",
      "source": [
        "**Filename** - main.py  - Using key in env"
      ],
      "metadata": {
        "id": "ERjgusY1Z1YK"
      }
    },
    {
      "cell_type": "code",
      "source": [
        "import streamlit as st\n",
        "import replicate\n",
        "import os\n",
        "from dotenv import load_dotenv\n",
        "from streamlit_image_comparison import image_comparison\n",
        "\n",
        "# Load environment variables from .env file\n",
        "load_dotenv()\n",
        "\n",
        "# Fetch the Replicate API token from the environment\n",
        "REPLICATE_API_TOKEN = os.getenv(\"REPLICATE_API_TOKEN\")\n",
        "\n",
        "# Set your Replicate API token\n",
        "os.environ[\"REPLICATE_API_TOKEN\"] = REPLICATE_API_TOKEN\n",
        "\n",
        "# Streamlit app\n",
        "st.title(\"High-Resolution ControlNet Tile Transformer\")\n",
        "\n",
        "# Input for external image link\n",
        "image_url = st.text_input(\"Enter the external image URL\", placeholder=\"https://example.com/your-image.jpg\")\n",
        "\n",
        "# Display the original image\n",
        "if image_url:\n",
        "    st.image(image_url, caption=\"Original Image\", use_column_width=True)\n",
        "\n",
        "# Prompt input\n",
        "prompt = st.text_area(\"Enter your design prompt\", placeholder=\"Describe your desired image transformation...\")\n",
        "\n",
        "# Optional parameters\n",
        "hdr = st.selectbox(\"HDR\", options=[0, 1], index=0)\n",
        "steps = st.slider(\"Steps\", min_value=1, max_value=100, value=20, step=1)\n",
        "scheduler = st.selectbox(\"Scheduler\", options=[\"DDIM\", \"PLMS\", \"LMSD\"], index=0)\n",
        "creativity = st.slider(\"Creativity\", min_value=0.0, max_value=1.0, value=0.15, step=0.01)\n",
        "guess_mode = st.selectbox(\"Guess Mode\", options=[True, False], index=1)\n",
        "resolution = st.slider(\"Resolution\", min_value=512, max_value=4096, value=2048, step=256)\n",
        "resemblance = st.slider(\"Resemblance\", min_value=0.0, max_value=1.0, value=0.99, step=0.01)\n",
        "guidance_scale = st.slider(\"Guidance Scale\", min_value=0, max_value=20, value=5, step=1)\n",
        "negative_prompt = st.text_area(\"Negative Prompt (optional)\", placeholder=\"e.g., Teeth, tooth, longbody, lowres, etc.\")\n",
        "lora_details_strength = st.slider(\"Lora Details Strength\", min_value=0.0, max_value=2.0, value=0.75, step=0.05)\n",
        "lora_sharpness_strength = st.slider(\"Lora Sharpness Strength\", min_value=0.0, max_value=2.0, value=1.25, step=0.05)\n",
        "\n",
        "# Generate Design\n",
        "if st.button(\"Generate Design\"):\n",
        "    if image_url and prompt:\n",
        "        try:\n",
        "            # Run the model\n",
        "            output = replicate.run(\n",
        "                \"batouresearch/high-resolution-controlnet-tile:8e6a54d7b2848c48dc741a109d3fb0ea2a7f554eb4becd39a25cc532536ea975\",\n",
        "                input={\n",
        "                    \"hdr\": hdr,\n",
        "                    \"image\": image_url,\n",
        "                    \"steps\": steps,\n",
        "                    \"prompt\": prompt,\n",
        "                    \"scheduler\": scheduler,\n",
        "                    \"creativity\": creativity,\n",
        "                    \"guess_mode\": guess_mode,\n",
        "                    \"resolution\": resolution,\n",
        "                    \"resemblance\": resemblance,\n",
        "                    \"guidance_scale\": guidance_scale,\n",
        "                    \"negative_prompt\": negative_prompt,\n",
        "                    \"lora_details_strength\": lora_details_strength,\n",
        "                    \"lora_sharpness_strength\": lora_sharpness_strength,\n",
        "                }\n",
        "            )\n",
        "\n",
        "            # Display the image comparison slider\n",
        "            st.write(\"## Compare the Original and Transformed Image\")\n",
        "            image_comparison(\n",
        "                img1=image_url,  # Original image\n",
        "                img2=output,  # Transformed image\n",
        "                label1=\"Original Image\",\n",
        "                label2=\"Transformed Image\",\n",
        "                width=700  # Adjust width as necessary\n",
        "            )\n",
        "\n",
        "        except replicate.exceptions.ReplicateError as e:\n",
        "            st.error(f\"Error: {e}\")\n",
        "    else:\n",
        "        st.error(\"Please enter an image URL and a prompt.\")\n"
      ],
      "metadata": {
        "id": "QzV_h3dCZxqp"
      },
      "execution_count": null,
      "outputs": []
    },
    {
      "cell_type": "markdown",
      "source": [
        "**Filename** - .env"
      ],
      "metadata": {
        "id": "OvU7BSXOZ64A"
      }
    },
    {
      "cell_type": "code",
      "source": [
        "REPLICATE_API_TOKEN=r8_JawCX9YDxbMlSMvgkqAuzshlANtyOwi21g2Vc  # Replace with your actual Replicate API token\n"
      ],
      "metadata": {
        "id": "aIM6Isb3Z-Nv"
      },
      "execution_count": null,
      "outputs": []
    },
    {
      "cell_type": "markdown",
      "source": [
        "**File name** - requirements.txt"
      ],
      "metadata": {
        "id": "XxERY6AFLjkH"
      }
    },
    {
      "cell_type": "markdown",
      "source": [],
      "metadata": {
        "id": "lTfCThrhZ8_3"
      }
    },
    {
      "cell_type": "code",
      "source": [
        "streamlit\n",
        "replicate\n",
        "streamlit-image-comparison\n",
        "python-dotenv\n"
      ],
      "metadata": {
        "id": "A7CyJmW2I5Sq",
        "outputId": "138e7185-a964-4b2e-ea7d-96b69487b3c2",
        "colab": {
          "base_uri": "https://localhost:8080/",
          "height": 210
        }
      },
      "execution_count": null,
      "outputs": [
        {
          "output_type": "error",
          "ename": "NameError",
          "evalue": "name 'streamlit' is not defined",
          "traceback": [
            "\u001b[0;31m---------------------------------------------------------------------------\u001b[0m",
            "\u001b[0;31mNameError\u001b[0m                                 Traceback (most recent call last)",
            "\u001b[0;32m<ipython-input-1-be9776746df9>\u001b[0m in \u001b[0;36m<cell line: 1>\u001b[0;34m()\u001b[0m\n\u001b[0;32m----> 1\u001b[0;31m \u001b[0mstreamlit\u001b[0m\u001b[0;34m\u001b[0m\u001b[0;34m\u001b[0m\u001b[0m\n\u001b[0m\u001b[1;32m      2\u001b[0m \u001b[0mPyPDF2\u001b[0m\u001b[0;34m\u001b[0m\u001b[0;34m\u001b[0m\u001b[0m\n\u001b[1;32m      3\u001b[0m \u001b[0mlangchain\u001b[0m\u001b[0;34m\u001b[0m\u001b[0;34m\u001b[0m\u001b[0m\n\u001b[1;32m      4\u001b[0m \u001b[0mlangchain\u001b[0m\u001b[0;34m-\u001b[0m\u001b[0mhuggingface\u001b[0m\u001b[0;34m\u001b[0m\u001b[0;34m\u001b[0m\u001b[0m\n\u001b[1;32m      5\u001b[0m \u001b[0mlangchain\u001b[0m\u001b[0;34m-\u001b[0m\u001b[0mcommunity\u001b[0m\u001b[0;34m\u001b[0m\u001b[0;34m\u001b[0m\u001b[0m\n",
            "\u001b[0;31mNameError\u001b[0m: name 'streamlit' is not defined"
          ]
        }
      ]
    },
    {
      "cell_type": "markdown",
      "source": [
        "**Filename** - .gitignore"
      ],
      "metadata": {
        "id": "ORL4FHEJa1i-"
      }
    },
    {
      "cell_type": "code",
      "source": [
        ".env"
      ],
      "metadata": {
        "id": "9kPNcAynazNQ"
      },
      "execution_count": null,
      "outputs": []
    },
    {
      "cell_type": "code",
      "source": [
        "pip install -r requirements.txt"
      ],
      "metadata": {
        "id": "KsIrHd6nXL_K"
      },
      "execution_count": null,
      "outputs": []
    },
    {
      "cell_type": "code",
      "source": [
        "streamlit run main.py\n",
        "\n",
        "or\n",
        "\n",
        "python -m streamlit run main.py"
      ],
      "metadata": {
        "id": "_PHOvMlep1nf"
      },
      "execution_count": null,
      "outputs": []
    }
  ],
  "metadata": {
    "colab": {
      "provenance": [],
      "include_colab_link": true
    },
    "kernelspec": {
      "display_name": "Python 3",
      "name": "python3"
    },
    "language_info": {
      "name": "python"
    }
  },
  "nbformat": 4,
  "nbformat_minor": 0
}