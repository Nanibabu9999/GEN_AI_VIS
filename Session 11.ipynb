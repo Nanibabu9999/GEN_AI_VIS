{
  "nbformat": 4,
  "nbformat_minor": 0,
  "metadata": {
    "colab": {
      "provenance": []
    },
    "kernelspec": {
      "name": "python3",
      "display_name": "Python 3"
    },
    "language_info": {
      "name": "python"
    }
  },
  "cells": [
    {
      "cell_type": "markdown",
      "source": [
        " **Introduction to Streamlit**"
      ],
      "metadata": {
        "id": "RsHt4hvlJu_N"
      }
    },
    {
      "cell_type": "markdown",
      "source": [
        " IDE like Visual Studio Code and Python Installed (Recommended)\n",
        "\n",
        "Requirements:\n",
        "Python (3.7 or later)\n",
        "PIP (Python package installer)\n",
        "\n",
        "for Testing\n",
        "py.cafe\n",
        "or codespaces"
      ],
      "metadata": {
        "id": "6vXpP46UJ0NV"
      }
    },
    {
      "cell_type": "markdown",
      "source": [
        "**Run this below line in Terminal**"
      ],
      "metadata": {
        "id": "NIpZ4DLkNRJd"
      }
    },
    {
      "cell_type": "markdown",
      "source": [
        "**main.py**"
      ],
      "metadata": {
        "id": "V3gTNzhdNOgr"
      }
    },
    {
      "cell_type": "code",
      "source": [
        "import streamlit as st\n",
        "from groq import Groq\n",
        "import os\n",
        "from dotenv import load_dotenv\n",
        "\n",
        "# Load environment variables from .env file\n",
        "load_dotenv()\n",
        "\n",
        "# Initialize the Groq client\n",
        "GROQ_API_KEY = os.getenv('GROQ_API_KEY')\n",
        "client = Groq(api_key=GROQ_API_KEY)\n",
        "MODEL = 'llama3-70b-8192'\n",
        "\n",
        "# Store conversation history\n",
        "conversation = [\n",
        "    {\n",
        "        \"role\": \"system\",\n",
        "        \"content\": \"You are a chat bot designed only to answer questions about footballer Christiano Ronaldo. You do not know anything else. If someone asks questions on topics apart from Christiano Ronaldo, just say you don't know.\"\n",
        "    }\n",
        "]\n",
        "\n",
        "def get_groq_response(question):\n",
        "    global conversation\n",
        "    messages = conversation + [\n",
        "        {\n",
        "            \"role\": \"user\",\n",
        "            \"content\": question,\n",
        "        }\n",
        "    ]\n",
        "\n",
        "    response = client.chat.completions.create(\n",
        "        model=MODEL,\n",
        "        messages=messages,\n",
        "        max_tokens=4096\n",
        "    )\n",
        "\n",
        "    conversation.append({\n",
        "        \"role\": \"assistant\",\n",
        "        \"content\": response.choices[0].message.content\n",
        "    })\n",
        "\n",
        "    return response.choices[0].message.content\n",
        "\n",
        "# Streamlit app title\n",
        "st.title(\"Christiano Ronaldo Chatbot\")\n",
        "\n",
        "# Display an image placeholder\n",
        "st.image(\"Ronaldo.jpg\", width=700, caption=\"Christiano Ronaldo\")\n",
        "\n",
        "# Adjust CSS for padding and text wrapping\n",
        "st.markdown(\"\"\"\n",
        "<style>\n",
        ".block-container {\n",
        "    padding-top: 3rem;  /* Adjust this value as needed */\n",
        "    padding-bottom: 1rem; /* Ensure bottom content is visible */\n",
        "    padding-left: 1rem;\n",
        "    padding-right: 1rem;\n",
        "}\n",
        ".css-1r6slb0 {\n",
        "    white-space: normal !important;\n",
        "}\n",
        ".sidebar-text {\n",
        "    white-space: normal !important;\n",
        "    word-wrap: break-word;\n",
        "}\n",
        "</style>\n",
        "\"\"\", unsafe_allow_html=True)\n",
        "\n",
        "# Chat interface\n",
        "if 'conversation' not in st.session_state:\n",
        "    st.session_state.conversation = []\n",
        "\n",
        "def send_message():\n",
        "    question = input_box\n",
        "    if question:\n",
        "        st.session_state.conversation.append({\"role\": \"user\", \"content\": question})\n",
        "        response = get_groq_response(question)\n",
        "        st.session_state.conversation.append({\"role\": \"assistant\", \"content\": response})\n",
        "\n",
        "# Input box for user query\n",
        "input_box = st.text_input(\"Enter your query about Christiano Ronaldo:\")\n",
        "\n",
        "# Button to get response\n",
        "if st.button(\"Send\"):\n",
        "    send_message()\n",
        "\n",
        "# Display conversation\n",
        "user_profile_pic = \"profile.png\"\n",
        "assistant_profile_pic = \"user.png\"\n",
        "for message in st.session_state.conversation:\n",
        "    if message[\"role\"] == \"system\":\n",
        "        st.image(assistant_profile_pic, width=30, output_format='PNG')\n",
        "        st.markdown(f\"**System:** {message['content']}\")\n",
        "    elif message[\"role\"] == \"user\":\n",
        "        st.image(user_profile_pic, width=30, output_format='PNG')\n",
        "        st.markdown(f\"**You:** {message['content']}\")\n",
        "    else:\n",
        "        st.image(assistant_profile_pic, width=30, output_format='PNG')\n",
        "        st.markdown(f\"**Assistant:** {message['content']}\")\n",
        "\n",
        "# Additional Streamlit widgets for beautification\n",
        "st.sidebar.header(\"Ronaldo App\")\n",
        "st.sidebar.markdown('<div class=\"sidebar-text\">This app allows you to ask questions about the legendary footballer Christiano Ronaldo. Feel free to explore and learn more about his career and achievements!</div>', unsafe_allow_html=True)\n",
        "\n",
        "# Add a footer\n",
        "st.markdown(\"---\")\n",
        "st.markdown(\"Made by Arvin\")"
      ],
      "metadata": {
        "id": "525uLJLJKSBI"
      },
      "execution_count": null,
      "outputs": []
    },
    {
      "cell_type": "markdown",
      "source": [
        "**.env**"
      ],
      "metadata": {
        "id": "NuGHgPLbnNjC"
      }
    },
    {
      "cell_type": "code",
      "source": [
        "GROQ_API_KEY=key"
      ],
      "metadata": {
        "id": "o1OwbNgRnRB8"
      },
      "execution_count": null,
      "outputs": []
    },
    {
      "cell_type": "markdown",
      "source": [
        "**requirements.txt**"
      ],
      "metadata": {
        "id": "THNCdvCZNiEX"
      }
    },
    {
      "cell_type": "code",
      "source": [
        "  streamlit==1.27.2  # currently pinned to this version\n",
        "  groq\n",
        "  python-dotenv\n",
        "\n"
      ],
      "metadata": {
        "id": "c66vrcPlOD0X"
      },
      "execution_count": null,
      "outputs": []
    },
    {
      "cell_type": "markdown",
      "source": [
        "**Code to run the application**"
      ],
      "metadata": {
        "id": "TjJBIa-lZE2_"
      }
    },
    {
      "cell_type": "code",
      "source": [
        "pip install -r requirements.txt\n",
        "streamlit run main.py"
      ],
      "metadata": {
        "id": "GQkeEWCpZJKW"
      },
      "execution_count": null,
      "outputs": []
    },
    {
      "cell_type": "markdown",
      "source": [
        "**Instructions**"
      ],
      "metadata": {
        "id": "hU__d3KaZRmi"
      }
    },
    {
      "cell_type": "markdown",
      "source": [
        "Download - Visual Studio Code - https://code.visualstudio.com/download\n",
        "\n",
        "python download - https://www.python.org/downloads/"
      ],
      "metadata": {
        "id": "TvJJvG9tUdj-"
      }
    },
    {
      "cell_type": "markdown",
      "source": [
        "**Or alternatively**"
      ],
      "metadata": {
        "id": "2ZAiTISPZWFP"
      }
    },
    {
      "cell_type": "markdown",
      "source": [
        "Open a Github Profile - create a private repo - open the repo in codespaces create the two files - open the terminal and run the code as given above"
      ],
      "metadata": {
        "id": "yt1uq6TzY58h"
      }
    },
    {
      "cell_type": "markdown",
      "source": [
        "**How to deploy from VS Code?**\n",
        "\n",
        "1. First Step: Create a Github Profile\n",
        "2. Create a New Public Repository\n",
        "3. Then go to your Vs Code Terminal Type the Below\n"
      ],
      "metadata": {
        "id": "f0si7glHoXTZ"
      }
    },
    {
      "cell_type": "code",
      "source": [
        "git init\n",
        "git add .\n",
        "git commit -m \"initial\"\n"
      ],
      "metadata": {
        "id": "AY3Tl3rBobNR"
      },
      "execution_count": null,
      "outputs": []
    },
    {
      "cell_type": "markdown",
      "source": [
        "4. Copy and paste the code from github for existing repo (3rd point)\n",
        "5. you can see the upload status in terminal\n"
      ],
      "metadata": {
        "id": "RYf6LseXoo3P"
      }
    },
    {
      "cell_type": "markdown",
      "source": [
        "once you are making any changes after deploying to github. The new changes made to the code in local file. can be pushed to the github through below lines. run it in terminal"
      ],
      "metadata": {
        "id": "GF3UQfwDnYPq"
      }
    },
    {
      "cell_type": "code",
      "source": [
        "git add .\n",
        "git commit -m \"changes\"\n",
        "git push"
      ],
      "metadata": {
        "id": "ue92j2h3nmz2"
      },
      "execution_count": null,
      "outputs": []
    },
    {
      "cell_type": "markdown",
      "source": [
        "**Deploying to Streamlit**\n",
        "\n",
        "1. Go to share.streamlit.io\n",
        "2. create an account\n",
        "3. link with github\n",
        "4. create an app ( existing app)\n",
        "5.select the repo\n",
        "6. select the file name\n",
        "7. click on deploy\n",
        "8. project will be loaded.\n"
      ],
      "metadata": {
        "id": "qo66NI4CqGPV"
      }
    }
  ]
}