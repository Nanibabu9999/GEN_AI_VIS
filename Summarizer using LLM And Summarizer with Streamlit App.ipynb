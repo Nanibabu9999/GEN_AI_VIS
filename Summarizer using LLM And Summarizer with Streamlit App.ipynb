{
  "nbformat": 4,
  "nbformat_minor": 0,
  "metadata": {
    "colab": {
      "provenance": []
    },
    "kernelspec": {
      "name": "python3",
      "display_name": "Python 3"
    },
    "language_info": {
      "name": "python"
    }
  },
  "cells": [
    {
      "cell_type": "markdown",
      "source": [
        " **Introduction to Streamlit**"
      ],
      "metadata": {
        "id": "RsHt4hvlJu_N"
      }
    },
    {
      "cell_type": "markdown",
      "source": [
        " IDE like Visual Studio Code and Python Installed (Recommended)\n",
        "\n",
        "Requirements:\n",
        "Python (3.7 or later)\n",
        "PIP (Python package installer)\n",
        "\n",
        "for Testing\n",
        "py.cafe\n",
        "or codespaces"
      ],
      "metadata": {
        "id": "6vXpP46UJ0NV"
      }
    },
    {
      "cell_type": "markdown",
      "source": [
        "**Run this below line in Terminal**"
      ],
      "metadata": {
        "id": "NIpZ4DLkNRJd"
      }
    },
    {
      "cell_type": "markdown",
      "source": [
        "**main.py**"
      ],
      "metadata": {
        "id": "V3gTNzhdNOgr"
      }
    },
    {
      "cell_type": "code",
      "source": [
        "import streamlit as st\n",
        "from llama_index.llms.groq import Groq\n",
        "from dotenv import load_dotenv\n",
        "import os\n",
        "\n",
        "# Load the environment variables from .env file\n",
        "load_dotenv()\n",
        "\n",
        "# Fetch the API key from the environment variable\n",
        "api_key = os.getenv(\"GROQ_API_KEY\")\n",
        "\n",
        "# Initialize the Groq model\n",
        "llm = Groq(model=\"llama3-70b-8192\", api_key=api_key)\n",
        "\n",
        "def summarize_text(text, summary_type):\n",
        "    if summary_type == \"Normal Summary\":\n",
        "        prompt = f\"Summarize the text: {text}\"\n",
        "    elif summary_type == \"Short Summary\":\n",
        "        prompt = f\"Summarize the text in 10 words: {text}\"\n",
        "    elif summary_type == \"Simple Summary\":\n",
        "        prompt = f\"Summarize the text in layman terms: {text}\"\n",
        "    elif summary_type == \"Bullet Point Summary\":\n",
        "        prompt = f\"Summarize the text in 3 bullet points: {text}\"\n",
        "\n",
        "    response = llm.complete(prompt)\n",
        "    return response\n",
        "\n",
        "# Streamlit app\n",
        "st.title(\"📄 Text Summarizer 🤖\")\n",
        "\n",
        "# Text input area\n",
        "text = st.text_area(\"Enter a large text paragraph\")\n",
        "\n",
        "# Buttons for different summaries\n",
        "if st.button(\"Normal Summary 💡\"):\n",
        "    if text:\n",
        "        summary = summarize_text(text, \"Normal Summary\")\n",
        "        st.write(\"### Normal Summary 💡\")\n",
        "        st.write(summary)\n",
        "    else:\n",
        "        st.write(\"Please enter some text to summarize.\")\n",
        "\n",
        "if st.button(\"Short Summary 💬\"):\n",
        "    if text:\n",
        "        summary = summarize_text(text, \"Short Summary\")\n",
        "        st.write(\"### Short Summary 💬\")\n",
        "        st.write(summary)\n",
        "    else:\n",
        "        st.write(\"Please enter some text to summarize.\")\n",
        "\n",
        "if st.button(\"Simple Summary 🔖\"):\n",
        "    if text:\n",
        "        summary = summarize_text(text, \"Simple Summary\")\n",
        "        st.write(\"### Simple Summary 🔖\")\n",
        "        st.write(summary)\n",
        "    else:\n",
        "        st.write(\"Please enter some text to summarize.\")\n",
        "\n",
        "if st.button(\"Bullet Point Summary 🎯\"):\n",
        "    if text:\n",
        "        summary = summarize_text(text, \"Bullet Point Summary\")\n",
        "        st.write(\"### Bullet Point Summary 🎯\")\n",
        "        st.write(summary)\n",
        "    else:\n",
        "        st.write(\"Please enter some text to summarize.\")\n",
        "\n",
        "# Add a footer\n",
        "st.markdown(\"---\")\n",
        "st.markdown(\"Made by Arvin\")"
      ],
      "metadata": {
        "id": "525uLJLJKSBI"
      },
      "execution_count": null,
      "outputs": []
    },
    {
      "cell_type": "markdown",
      "source": [
        "**.env**"
      ],
      "metadata": {
        "id": "NuGHgPLbnNjC"
      }
    },
    {
      "cell_type": "code",
      "source": [
        "GROQ_API_KEY=key"
      ],
      "metadata": {
        "id": "o1OwbNgRnRB8"
      },
      "execution_count": null,
      "outputs": []
    },
    {
      "cell_type": "markdown",
      "source": [
        "**requirements.txt**"
      ],
      "metadata": {
        "id": "THNCdvCZNiEX"
      }
    },
    {
      "cell_type": "code",
      "source": [
        "streamlit\n",
        "llama_index\n",
        "python-dotenv\n",
        "llama-index-llms-groq"
      ],
      "metadata": {
        "id": "c66vrcPlOD0X"
      },
      "execution_count": null,
      "outputs": []
    },
    {
      "cell_type": "markdown",
      "source": [
        "**Code to run the application**"
      ],
      "metadata": {
        "id": "TjJBIa-lZE2_"
      }
    },
    {
      "cell_type": "code",
      "source": [
        "pip install -r requirements.txt\n",
        "streamlit run main.py"
      ],
      "metadata": {
        "id": "GQkeEWCpZJKW"
      },
      "execution_count": null,
      "outputs": []
    },
    {
      "cell_type": "markdown",
      "source": [
        "**Instructions**"
      ],
      "metadata": {
        "id": "hU__d3KaZRmi"
      }
    },
    {
      "cell_type": "markdown",
      "source": [
        "Download - Visual Studio Code - https://code.visualstudio.com/download\n",
        "\n",
        "python download - https://www.python.org/downloads/"
      ],
      "metadata": {
        "id": "TvJJvG9tUdj-"
      }
    },
    {
      "cell_type": "markdown",
      "source": [
        "**Or alternatively**"
      ],
      "metadata": {
        "id": "2ZAiTISPZWFP"
      }
    },
    {
      "cell_type": "markdown",
      "source": [
        "Open a Github Profile - create a private repo - open the repo in codespaces create the two files - open the terminal and run the code as given above"
      ],
      "metadata": {
        "id": "yt1uq6TzY58h"
      }
    },
    {
      "cell_type": "markdown",
      "source": [
        "**How to deploy from VS Code?**\n",
        "\n",
        "1. First Step: Create a Github Profile\n",
        "2. Create a New Public Repository\n",
        "3. Then go to your Vs Code Terminal Type the Below\n"
      ],
      "metadata": {
        "id": "f0si7glHoXTZ"
      }
    },
    {
      "cell_type": "code",
      "source": [
        "git init\n",
        "git add .\n",
        "git commit -m \"initial\"\n"
      ],
      "metadata": {
        "id": "AY3Tl3rBobNR"
      },
      "execution_count": null,
      "outputs": []
    },
    {
      "cell_type": "markdown",
      "source": [
        "4. Copy and paste the code from github for existing repo (3rd point)\n",
        "5. you can see the upload status in terminal\n"
      ],
      "metadata": {
        "id": "RYf6LseXoo3P"
      }
    },
    {
      "cell_type": "markdown",
      "source": [
        "once you are making any changes after deploying to github. The new changes made to the code in local file. can be pushed to the github through below lines. run it in terminal"
      ],
      "metadata": {
        "id": "GF3UQfwDnYPq"
      }
    },
    {
      "cell_type": "code",
      "source": [
        "git add .\n",
        "git commit -m \"changes\"\n",
        "git push"
      ],
      "metadata": {
        "id": "ue92j2h3nmz2"
      },
      "execution_count": null,
      "outputs": []
    },
    {
      "cell_type": "markdown",
      "source": [
        "**Deploying to Streamlit**\n",
        "\n",
        "1. Go to share.streamlit.io\n",
        "2. create an account\n",
        "3. link with github\n",
        "4. create an app ( existing app)\n",
        "5.select the repo\n",
        "6. select the file name\n",
        "7. click on deploy\n",
        "8. project will be loaded.\n"
      ],
      "metadata": {
        "id": "qo66NI4CqGPV"
      }
    },
    {
      "cell_type": "markdown",
      "source": [
        "Give the api keys as streamlit secret - in TOML format."
      ],
      "metadata": {
        "id": "PPP1RVkczVOt"
      }
    }
  ]
}