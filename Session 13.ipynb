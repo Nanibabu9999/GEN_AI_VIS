{
  "nbformat": 4,
  "nbformat_minor": 0,
  "metadata": {
    "colab": {
      "provenance": []
    },
    "kernelspec": {
      "name": "python3",
      "display_name": "Python 3"
    },
    "language_info": {
      "name": "python"
    }
  },
  "cells": [
    {
      "cell_type": "markdown",
      "source": [
        " **Introduction to Streamlit**"
      ],
      "metadata": {
        "id": "RsHt4hvlJu_N"
      }
    },
    {
      "cell_type": "markdown",
      "source": [
        " IDE like Visual Studio Code and Python Installed (Recommended)\n",
        "\n",
        "Requirements:\n",
        "Python (3.7 or later)\n",
        "PIP (Python package installer)\n",
        "\n",
        "for Testing\n",
        "py.cafe\n",
        "or codespaces"
      ],
      "metadata": {
        "id": "6vXpP46UJ0NV"
      }
    },
    {
      "cell_type": "markdown",
      "source": [
        "**Run this below line in Terminal**"
      ],
      "metadata": {
        "id": "NIpZ4DLkNRJd"
      }
    },
    {
      "cell_type": "markdown",
      "source": [
        "**main.py**"
      ],
      "metadata": {
        "id": "V3gTNzhdNOgr"
      }
    },
    {
      "cell_type": "code",
      "source": [
        "import streamlit as st\n",
        "import requests\n",
        "import io\n",
        "from PIL import Image\n",
        "from dotenv import load_dotenv\n",
        "import os\n",
        "\n",
        "# Load environment variables from .env file\n",
        "load_dotenv()\n",
        "API_KEY = os.getenv(\"HUGGINGFACE_API_KEY\")\n",
        "\n",
        "API_URL = \"https://api-inference.huggingface.co/models/alvdansen/littletinies\"\n",
        "headers = {\"Authorization\": f\"Bearer {API_KEY}\"}\n",
        "\n",
        "def query(payload):\n",
        "    response = requests.post(API_URL, headers=headers, json=payload)\n",
        "    return response.content\n",
        "\n",
        "st.title(\"AI Image Generator\")\n",
        "st.write(\"Enter a description to generate an image:\")\n",
        "\n",
        "# Get user input\n",
        "description = st.text_input(\"Description\")\n",
        "\n",
        "if st.button(\"Generate Image\"):\n",
        "    if description:\n",
        "        with st.spinner('Generating image...'):\n",
        "            image_bytes = query({\"inputs\": description})\n",
        "            image = Image.open(io.BytesIO(image_bytes))\n",
        "            st.image(image, caption=description)\n",
        "    else:\n",
        "        st.warning(\"Please enter a description.\")\n",
        "\n",
        "# Add a footer\n",
        "st.markdown(\"---\")\n",
        "st.markdown(\"Made by Arvin\")\n"
      ],
      "metadata": {
        "id": "525uLJLJKSBI"
      },
      "execution_count": null,
      "outputs": []
    },
    {
      "cell_type": "markdown",
      "source": [
        "**.env**"
      ],
      "metadata": {
        "id": "NuGHgPLbnNjC"
      }
    },
    {
      "cell_type": "code",
      "source": [
        "HUGGINGFACE_API_KEY="
      ],
      "metadata": {
        "id": "o1OwbNgRnRB8"
      },
      "execution_count": null,
      "outputs": []
    },
    {
      "cell_type": "markdown",
      "source": [
        "**requirements.txt**"
      ],
      "metadata": {
        "id": "THNCdvCZNiEX"
      }
    },
    {
      "cell_type": "code",
      "source": [
        "streamlit\n",
        "requests\n",
        "pillow\n",
        "python-dotenv\n"
      ],
      "metadata": {
        "id": "c66vrcPlOD0X"
      },
      "execution_count": null,
      "outputs": []
    },
    {
      "cell_type": "markdown",
      "source": [
        "**.gitignore**"
      ],
      "metadata": {
        "id": "wG0Uk-Mt1hbm"
      }
    },
    {
      "cell_type": "code",
      "source": [
        ".env\n"
      ],
      "metadata": {
        "id": "7jzzplti1myW"
      },
      "execution_count": null,
      "outputs": []
    },
    {
      "cell_type": "markdown",
      "source": [
        "**Code to run the application**"
      ],
      "metadata": {
        "id": "TjJBIa-lZE2_"
      }
    },
    {
      "cell_type": "code",
      "source": [
        "pip install -r requirements.txt\n",
        "streamlit run main.py"
      ],
      "metadata": {
        "id": "GQkeEWCpZJKW"
      },
      "execution_count": null,
      "outputs": []
    },
    {
      "cell_type": "markdown",
      "source": [
        "**Instructions**"
      ],
      "metadata": {
        "id": "hU__d3KaZRmi"
      }
    },
    {
      "cell_type": "markdown",
      "source": [
        "Download - Visual Studio Code - https://code.visualstudio.com/download\n",
        "\n",
        "python download - https://www.python.org/downloads/"
      ],
      "metadata": {
        "id": "TvJJvG9tUdj-"
      }
    },
    {
      "cell_type": "markdown",
      "source": [
        "**Or alternatively**"
      ],
      "metadata": {
        "id": "2ZAiTISPZWFP"
      }
    },
    {
      "cell_type": "markdown",
      "source": [
        "Open a Github Profile - create a private repo - open the repo in codespaces create the two files - open the terminal and run the code as given above"
      ],
      "metadata": {
        "id": "yt1uq6TzY58h"
      }
    },
    {
      "cell_type": "markdown",
      "source": [
        "**How to deploy from VS Code?**\n",
        "\n",
        "1. First Step: Create a Github Profile\n",
        "2. Create a New Public Repository\n",
        "3. Then go to your Vs Code Terminal Type the Below\n"
      ],
      "metadata": {
        "id": "f0si7glHoXTZ"
      }
    },
    {
      "cell_type": "code",
      "source": [
        "git init\n",
        "git add .\n",
        "git commit -m \"initial\"\n"
      ],
      "metadata": {
        "id": "AY3Tl3rBobNR"
      },
      "execution_count": null,
      "outputs": []
    },
    {
      "cell_type": "markdown",
      "source": [
        "4. Copy and paste the code from github for existing repo (3rd point)\n",
        "5. you can see the upload status in terminal\n"
      ],
      "metadata": {
        "id": "RYf6LseXoo3P"
      }
    },
    {
      "cell_type": "markdown",
      "source": [
        "once you are making any changes after deploying to github. The new changes made to the code in local file. can be pushed to the github through below lines. run it in terminal"
      ],
      "metadata": {
        "id": "GF3UQfwDnYPq"
      }
    },
    {
      "cell_type": "code",
      "source": [
        "git add .\n",
        "git commit -m \"changes\"\n",
        "git push"
      ],
      "metadata": {
        "id": "ue92j2h3nmz2"
      },
      "execution_count": null,
      "outputs": []
    },
    {
      "cell_type": "markdown",
      "source": [
        "**Deploying to Streamlit**\n",
        "\n",
        "1. Go to share.streamlit.io\n",
        "2. create an account\n",
        "3. link with github\n",
        "4. create an app ( existing app)\n",
        "5.select the repo\n",
        "6. select the file name\n",
        "7. click on deploy\n",
        "8. project will be loaded.\n"
      ],
      "metadata": {
        "id": "qo66NI4CqGPV"
      }
    },
    {
      "cell_type": "markdown",
      "source": [
        "Give the api keys as streamlit secret - in TOML format."
      ],
      "metadata": {
        "id": "PPP1RVkczVOt"
      }
    }
  ]
}