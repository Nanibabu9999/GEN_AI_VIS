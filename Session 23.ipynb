{
  "cells": [
    {
      "cell_type": "markdown",
      "source": [
        "For Testing In Visual Studio Code"
      ],
      "metadata": {
        "id": "CT3U_npNu6eg"
      }
    },
    {
      "cell_type": "markdown",
      "source": [
        "**Filename ** - main.py"
      ],
      "metadata": {
        "id": "RU4PAgajaabQ"
      }
    },
    {
      "cell_type": "markdown",
      "source": [],
      "metadata": {
        "id": "v3Sr1-6nu5Ew"
      }
    },
    {
      "cell_type": "code",
      "source": [
        "import streamlit as st\n",
        "import requests\n",
        "import json\n",
        "\n",
        "# Define the API endpoint and API key\n",
        "API_ENDPOINT = \"https://modelslab.com/api/v6/video/text2video\"\n",
        "API_KEY = \"xiMN5ez5IVTbDtCsQmKS5DlcXRWAlDJ6DmbUPP7xqNPHUC7ZqsQe7gvQ1Etk\"\n",
        "\n",
        "# Create the Streamlit app\n",
        "st.title(\"Text-to-Video Generation\")\n",
        "\n",
        "# Get user input\n",
        "prompt = st.text_area(\"Enter a prompt:\", height=100)\n",
        "negative_prompt = st.text_area(\"Enter a negative prompt (optional):\", height=50)\n",
        "model_id = st.selectbox(\"Select a model:\", [\"zeroscope\", \"dark-sushi-mix-vid\", \"epicrealismnaturalsi-vid\", \"hellonijicute25d-vid\"])\n",
        "height = st.number_input(\"Video height (max 512):\", min_value=1, max_value=512, value=320, step=1)\n",
        "width = st.number_input(\"Video width (max 512):\", min_value=1, max_value=512, value=512, step=1)  # Set default to 512\n",
        "num_frames = st.number_input(\"Number of frames (max 25):\", min_value=1, max_value=25, value=16, step=1)\n",
        "num_inference_steps = st.number_input(\"Number of inference steps (max 50):\", min_value=1, max_value=50, value=20, step=1)\n",
        "guidance_scale = st.number_input(\"Guidance scale (0-8):\", min_value=0.0, max_value=8.0, value=7.0, step=0.1)\n",
        "output_type = st.selectbox(\"Output type:\", [\"mp4\", \"gif\"])\n",
        "\n",
        "# Create a button to generate the video\n",
        "if st.button(\"Generate Video\"):\n",
        "    # Prepare the request payload\n",
        "    payload = {\n",
        "        \"key\": API_KEY,\n",
        "        \"model_id\": model_id,\n",
        "        \"prompt\": prompt,\n",
        "        \"negative_prompt\": negative_prompt,\n",
        "        \"height\": height,\n",
        "        \"width\": width,\n",
        "        \"num_frames\": num_frames,\n",
        "        \"num_inference_steps\": num_inference_steps,\n",
        "        \"guidance_scale\": guidance_scale,\n",
        "        \"output_type\": output_type\n",
        "    }\n",
        "\n",
        "    # Send the POST request to the API\n",
        "    headers = {\"Content-Type\": \"application/json\"}\n",
        "    response = requests.post(API_ENDPOINT, headers=headers, data=json.dumps(payload))\n",
        "\n",
        "    # Display the generated video\n",
        "    if response.status_code == 200:\n",
        "        result = response.json()\n",
        "        video_url = result[\"output\"][0]\n",
        "        st.video(video_url)\n",
        "    else:\n",
        "        st.error(\"Error generating the video.\")"
      ],
      "metadata": {
        "id": "3UNFM9YF8LrP"
      },
      "execution_count": null,
      "outputs": []
    },
    {
      "cell_type": "markdown",
      "source": [
        "requirements.txt"
      ],
      "metadata": {
        "id": "rwcWaS1jvIIo"
      }
    },
    {
      "cell_type": "code",
      "source": [
        "streamlit\n",
        "requests"
      ],
      "metadata": {
        "id": "J3CSXPQKvGYO"
      },
      "execution_count": null,
      "outputs": []
    },
    {
      "cell_type": "markdown",
      "source": [
        "pip install -r requirements.txt"
      ],
      "metadata": {
        "id": "YAyvzqzNvMLz"
      }
    },
    {
      "cell_type": "code",
      "source": [
        "streamlit run main.py"
      ],
      "metadata": {
        "id": "M6apjin-vS71"
      },
      "execution_count": null,
      "outputs": []
    },
    {
      "cell_type": "markdown",
      "source": [
        "**Filename** - main.py  - Using key in env (for github)"
      ],
      "metadata": {
        "id": "ERjgusY1Z1YK"
      }
    },
    {
      "cell_type": "code",
      "source": [
        "import streamlit as st\n",
        "import requests\n",
        "import json\n",
        "import os\n",
        "from dotenv import load_dotenv\n",
        "\n",
        "# Load environment variables from .env file\n",
        "load_dotenv()\n",
        "\n",
        "# Get the API key from environment variables\n",
        "API_KEY = os.getenv(\"API_KEY\")\n",
        "\n",
        "# Define the API endpoint\n",
        "API_ENDPOINT = \"https://modelslab.com/api/v6/video/text2video\"\n",
        "\n",
        "# Create the Streamlit app\n",
        "st.title(\"Text-to-Video Generation\")\n",
        "\n",
        "# Get user input\n",
        "prompt = st.text_area(\"Enter a prompt:\", height=100)\n",
        "negative_prompt = st.text_area(\"Enter a negative prompt (optional):\", height=50)\n",
        "model_id = st.selectbox(\"Select a model:\", [\"zeroscope\", \"dark-sushi-mix-vid\", \"epicrealismnaturalsi-vid\", \"hellonijicute25d-vid\"])\n",
        "height = st.number_input(\"Video height (max 512):\", min_value=1, max_value=512, value=320, step=1)\n",
        "width = st.number_input(\"Video width (max 512):\", min_value=1, max_value=512, value=512, step=1)  # Set default to 512\n",
        "num_frames = st.number_input(\"Number of frames (max 25):\", min_value=1, max_value=25, value=16, step=1)\n",
        "num_inference_steps = st.number_input(\"Number of inference steps (max 50):\", min_value=1, max_value=50, value=20, step=1)\n",
        "guidance_scale = st.number_input(\"Guidance scale (0-8):\", min_value=0.0, max_value=8.0, value=7.0, step=0.1)\n",
        "output_type = st.selectbox(\"Output type:\", [\"mp4\", \"gif\"])\n",
        "\n",
        "# Create a button to generate the video\n",
        "if st.button(\"Generate Video\"):\n",
        "    # Prepare the request payload\n",
        "    payload = {\n",
        "        \"key\": API_KEY,\n",
        "        \"model_id\": model_id,\n",
        "        \"prompt\": prompt,\n",
        "        \"negative_prompt\": negative_prompt,\n",
        "        \"height\": height,\n",
        "        \"width\": width,\n",
        "        \"num_frames\": num_frames,\n",
        "        \"num_inference_steps\": num_inference_steps,\n",
        "        \"guidance_scale\": guidance_scale,\n",
        "        \"output_type\": output_type\n",
        "    }\n",
        "\n",
        "    # Send the POST request to the API\n",
        "    headers = {\"Content-Type\": \"application/json\"}\n",
        "    response = requests.post(API_ENDPOINT, headers=headers, data=json.dumps(payload))\n",
        "\n",
        "    # Display the generated video\n",
        "    if response.status_code == 200:\n",
        "        result = response.json()\n",
        "        video_url = result[\"output\"][0]\n",
        "        st.video(video_url)\n",
        "    else:\n",
        "        st.error(\"Error generating the video.\")"
      ],
      "metadata": {
        "id": "QzV_h3dCZxqp"
      },
      "execution_count": null,
      "outputs": []
    },
    {
      "cell_type": "markdown",
      "source": [
        "**Filename** - .env"
      ],
      "metadata": {
        "id": "OvU7BSXOZ64A"
      }
    },
    {
      "cell_type": "code",
      "source": [
        "API_KEY=xiMN5ez5IVTbDtCsQmKS5DlcXRWAlDJ6DmbUPP7xqNPHUC7ZqsQe7gvQ1Etk"
      ],
      "metadata": {
        "id": "aIM6Isb3Z-Nv"
      },
      "execution_count": null,
      "outputs": []
    },
    {
      "cell_type": "markdown",
      "source": [
        "**File name** - requirements.txt"
      ],
      "metadata": {
        "id": "XxERY6AFLjkH"
      }
    },
    {
      "cell_type": "code",
      "source": [
        "streamlit\n",
        "requests\n",
        "python-dotenv\n"
      ],
      "metadata": {
        "id": "kCIfAS2yvjzP"
      },
      "execution_count": null,
      "outputs": []
    },
    {
      "cell_type": "markdown",
      "source": [
        "**Filename** - .gitignore"
      ],
      "metadata": {
        "id": "ORL4FHEJa1i-"
      }
    },
    {
      "cell_type": "code",
      "source": [
        ".env"
      ],
      "metadata": {
        "id": "9kPNcAynazNQ"
      },
      "execution_count": null,
      "outputs": []
    },
    {
      "cell_type": "code",
      "source": [
        "pip install -r requirements.txt"
      ],
      "metadata": {
        "id": "KsIrHd6nXL_K"
      },
      "execution_count": null,
      "outputs": []
    },
    {
      "cell_type": "code",
      "source": [
        "streamlit run main.py\n",
        "\n",
        "or\n",
        "\n",
        "python -m streamlit run main.py"
      ],
      "metadata": {
        "id": "_PHOvMlep1nf"
      },
      "execution_count": null,
      "outputs": []
    }
  ],
  "metadata": {
    "colab": {
      "provenance": []
    },
    "kernelspec": {
      "display_name": "Python 3",
      "name": "python3"
    },
    "language_info": {
      "name": "python"
    }
  },
  "nbformat": 4,
  "nbformat_minor": 0
}