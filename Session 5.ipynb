{
  "nbformat": 4,
  "nbformat_minor": 0,
  "metadata": {
    "colab": {
      "provenance": []
    },
    "kernelspec": {
      "name": "python3",
      "display_name": "Python 3"
    },
    "language_info": {
      "name": "python"
    }
  },
  "cells": [
    {
      "cell_type": "code",
      "execution_count": null,
      "metadata": {
        "colab": {
          "base_uri": "https://localhost:8080/"
        },
        "id": "6ry2Lga8nPqU",
        "outputId": "41f0293a-2a75-4dda-d583-6e4a28dd045a"
      },
      "outputs": [
        {
          "output_type": "stream",
          "name": "stdout",
          "text": [
            "Requirement already satisfied: llama-index-llms-groq in /usr/local/lib/python3.10/dist-packages (0.1.4)\n",
            "Requirement already satisfied: llama-index-core<0.11.0,>=0.10.1 in /usr/local/lib/python3.10/dist-packages (from llama-index-llms-groq) (0.10.55)\n",
            "Requirement already satisfied: llama-index-llms-openai-like<0.2.0,>=0.1.3 in /usr/local/lib/python3.10/dist-packages (from llama-index-llms-groq) (0.1.3)\n",
            "Requirement already satisfied: PyYAML>=6.0.1 in /usr/local/lib/python3.10/dist-packages (from llama-index-core<0.11.0,>=0.10.1->llama-index-llms-groq) (6.0.1)\n",
            "Requirement already satisfied: SQLAlchemy[asyncio]>=1.4.49 in /usr/local/lib/python3.10/dist-packages (from llama-index-core<0.11.0,>=0.10.1->llama-index-llms-groq) (2.0.31)\n",
            "Requirement already satisfied: aiohttp<4.0.0,>=3.8.6 in /usr/local/lib/python3.10/dist-packages (from llama-index-core<0.11.0,>=0.10.1->llama-index-llms-groq) (3.9.5)\n",
            "Requirement already satisfied: dataclasses-json in /usr/local/lib/python3.10/dist-packages (from llama-index-core<0.11.0,>=0.10.1->llama-index-llms-groq) (0.6.7)\n",
            "Requirement already satisfied: deprecated>=1.2.9.3 in /usr/local/lib/python3.10/dist-packages (from llama-index-core<0.11.0,>=0.10.1->llama-index-llms-groq) (1.2.14)\n",
            "Requirement already satisfied: dirtyjson<2.0.0,>=1.0.8 in /usr/local/lib/python3.10/dist-packages (from llama-index-core<0.11.0,>=0.10.1->llama-index-llms-groq) (1.0.8)\n",
            "Requirement already satisfied: fsspec>=2023.5.0 in /usr/local/lib/python3.10/dist-packages (from llama-index-core<0.11.0,>=0.10.1->llama-index-llms-groq) (2023.6.0)\n",
            "Requirement already satisfied: httpx in /usr/local/lib/python3.10/dist-packages (from llama-index-core<0.11.0,>=0.10.1->llama-index-llms-groq) (0.27.0)\n",
            "Requirement already satisfied: nest-asyncio<2.0.0,>=1.5.8 in /usr/local/lib/python3.10/dist-packages (from llama-index-core<0.11.0,>=0.10.1->llama-index-llms-groq) (1.6.0)\n",
            "Requirement already satisfied: networkx>=3.0 in /usr/local/lib/python3.10/dist-packages (from llama-index-core<0.11.0,>=0.10.1->llama-index-llms-groq) (3.3)\n",
            "Requirement already satisfied: nltk<4.0.0,>=3.8.1 in /usr/local/lib/python3.10/dist-packages (from llama-index-core<0.11.0,>=0.10.1->llama-index-llms-groq) (3.8.1)\n",
            "Requirement already satisfied: numpy<2.0.0 in /usr/local/lib/python3.10/dist-packages (from llama-index-core<0.11.0,>=0.10.1->llama-index-llms-groq) (1.25.2)\n",
            "Requirement already satisfied: openai>=1.1.0 in /usr/local/lib/python3.10/dist-packages (from llama-index-core<0.11.0,>=0.10.1->llama-index-llms-groq) (1.35.14)\n",
            "Requirement already satisfied: pandas in /usr/local/lib/python3.10/dist-packages (from llama-index-core<0.11.0,>=0.10.1->llama-index-llms-groq) (2.0.3)\n",
            "Requirement already satisfied: pillow>=9.0.0 in /usr/local/lib/python3.10/dist-packages (from llama-index-core<0.11.0,>=0.10.1->llama-index-llms-groq) (9.4.0)\n",
            "Requirement already satisfied: requests>=2.31.0 in /usr/local/lib/python3.10/dist-packages (from llama-index-core<0.11.0,>=0.10.1->llama-index-llms-groq) (2.31.0)\n",
            "Requirement already satisfied: tenacity!=8.4.0,<9.0.0,>=8.2.0 in /usr/local/lib/python3.10/dist-packages (from llama-index-core<0.11.0,>=0.10.1->llama-index-llms-groq) (8.5.0)\n",
            "Requirement already satisfied: tiktoken>=0.3.3 in /usr/local/lib/python3.10/dist-packages (from llama-index-core<0.11.0,>=0.10.1->llama-index-llms-groq) (0.7.0)\n",
            "Requirement already satisfied: tqdm<5.0.0,>=4.66.1 in /usr/local/lib/python3.10/dist-packages (from llama-index-core<0.11.0,>=0.10.1->llama-index-llms-groq) (4.66.4)\n",
            "Requirement already satisfied: typing-extensions>=4.5.0 in /usr/local/lib/python3.10/dist-packages (from llama-index-core<0.11.0,>=0.10.1->llama-index-llms-groq) (4.12.2)\n",
            "Requirement already satisfied: typing-inspect>=0.8.0 in /usr/local/lib/python3.10/dist-packages (from llama-index-core<0.11.0,>=0.10.1->llama-index-llms-groq) (0.9.0)\n",
            "Requirement already satisfied: wrapt in /usr/local/lib/python3.10/dist-packages (from llama-index-core<0.11.0,>=0.10.1->llama-index-llms-groq) (1.14.1)\n",
            "Requirement already satisfied: llama-index-llms-openai<0.2.0,>=0.1.1 in /usr/local/lib/python3.10/dist-packages (from llama-index-llms-openai-like<0.2.0,>=0.1.3->llama-index-llms-groq) (0.1.25)\n",
            "Requirement already satisfied: transformers<5.0.0,>=4.37.0 in /usr/local/lib/python3.10/dist-packages (from llama-index-llms-openai-like<0.2.0,>=0.1.3->llama-index-llms-groq) (4.41.2)\n",
            "Requirement already satisfied: aiosignal>=1.1.2 in /usr/local/lib/python3.10/dist-packages (from aiohttp<4.0.0,>=3.8.6->llama-index-core<0.11.0,>=0.10.1->llama-index-llms-groq) (1.3.1)\n",
            "Requirement already satisfied: attrs>=17.3.0 in /usr/local/lib/python3.10/dist-packages (from aiohttp<4.0.0,>=3.8.6->llama-index-core<0.11.0,>=0.10.1->llama-index-llms-groq) (23.2.0)\n",
            "Requirement already satisfied: frozenlist>=1.1.1 in /usr/local/lib/python3.10/dist-packages (from aiohttp<4.0.0,>=3.8.6->llama-index-core<0.11.0,>=0.10.1->llama-index-llms-groq) (1.4.1)\n",
            "Requirement already satisfied: multidict<7.0,>=4.5 in /usr/local/lib/python3.10/dist-packages (from aiohttp<4.0.0,>=3.8.6->llama-index-core<0.11.0,>=0.10.1->llama-index-llms-groq) (6.0.5)\n",
            "Requirement already satisfied: yarl<2.0,>=1.0 in /usr/local/lib/python3.10/dist-packages (from aiohttp<4.0.0,>=3.8.6->llama-index-core<0.11.0,>=0.10.1->llama-index-llms-groq) (1.9.4)\n",
            "Requirement already satisfied: async-timeout<5.0,>=4.0 in /usr/local/lib/python3.10/dist-packages (from aiohttp<4.0.0,>=3.8.6->llama-index-core<0.11.0,>=0.10.1->llama-index-llms-groq) (4.0.3)\n",
            "Requirement already satisfied: click in /usr/local/lib/python3.10/dist-packages (from nltk<4.0.0,>=3.8.1->llama-index-core<0.11.0,>=0.10.1->llama-index-llms-groq) (8.1.7)\n",
            "Requirement already satisfied: joblib in /usr/local/lib/python3.10/dist-packages (from nltk<4.0.0,>=3.8.1->llama-index-core<0.11.0,>=0.10.1->llama-index-llms-groq) (1.4.2)\n",
            "Requirement already satisfied: regex>=2021.8.3 in /usr/local/lib/python3.10/dist-packages (from nltk<4.0.0,>=3.8.1->llama-index-core<0.11.0,>=0.10.1->llama-index-llms-groq) (2024.5.15)\n",
            "Requirement already satisfied: anyio<5,>=3.5.0 in /usr/local/lib/python3.10/dist-packages (from openai>=1.1.0->llama-index-core<0.11.0,>=0.10.1->llama-index-llms-groq) (3.7.1)\n",
            "Requirement already satisfied: distro<2,>=1.7.0 in /usr/lib/python3/dist-packages (from openai>=1.1.0->llama-index-core<0.11.0,>=0.10.1->llama-index-llms-groq) (1.7.0)\n",
            "Requirement already satisfied: pydantic<3,>=1.9.0 in /usr/local/lib/python3.10/dist-packages (from openai>=1.1.0->llama-index-core<0.11.0,>=0.10.1->llama-index-llms-groq) (2.8.2)\n",
            "Requirement already satisfied: sniffio in /usr/local/lib/python3.10/dist-packages (from openai>=1.1.0->llama-index-core<0.11.0,>=0.10.1->llama-index-llms-groq) (1.3.1)\n",
            "Requirement already satisfied: certifi in /usr/local/lib/python3.10/dist-packages (from httpx->llama-index-core<0.11.0,>=0.10.1->llama-index-llms-groq) (2024.7.4)\n",
            "Requirement already satisfied: httpcore==1.* in /usr/local/lib/python3.10/dist-packages (from httpx->llama-index-core<0.11.0,>=0.10.1->llama-index-llms-groq) (1.0.5)\n",
            "Requirement already satisfied: idna in /usr/local/lib/python3.10/dist-packages (from httpx->llama-index-core<0.11.0,>=0.10.1->llama-index-llms-groq) (3.7)\n",
            "Requirement already satisfied: h11<0.15,>=0.13 in /usr/local/lib/python3.10/dist-packages (from httpcore==1.*->httpx->llama-index-core<0.11.0,>=0.10.1->llama-index-llms-groq) (0.14.0)\n",
            "Requirement already satisfied: charset-normalizer<4,>=2 in /usr/local/lib/python3.10/dist-packages (from requests>=2.31.0->llama-index-core<0.11.0,>=0.10.1->llama-index-llms-groq) (3.3.2)\n",
            "Requirement already satisfied: urllib3<3,>=1.21.1 in /usr/local/lib/python3.10/dist-packages (from requests>=2.31.0->llama-index-core<0.11.0,>=0.10.1->llama-index-llms-groq) (2.0.7)\n",
            "Requirement already satisfied: greenlet!=0.4.17 in /usr/local/lib/python3.10/dist-packages (from SQLAlchemy[asyncio]>=1.4.49->llama-index-core<0.11.0,>=0.10.1->llama-index-llms-groq) (3.0.3)\n",
            "Requirement already satisfied: filelock in /usr/local/lib/python3.10/dist-packages (from transformers<5.0.0,>=4.37.0->llama-index-llms-openai-like<0.2.0,>=0.1.3->llama-index-llms-groq) (3.15.4)\n",
            "Requirement already satisfied: huggingface-hub<1.0,>=0.23.0 in /usr/local/lib/python3.10/dist-packages (from transformers<5.0.0,>=4.37.0->llama-index-llms-openai-like<0.2.0,>=0.1.3->llama-index-llms-groq) (0.23.4)\n",
            "Requirement already satisfied: packaging>=20.0 in /usr/local/lib/python3.10/dist-packages (from transformers<5.0.0,>=4.37.0->llama-index-llms-openai-like<0.2.0,>=0.1.3->llama-index-llms-groq) (24.1)\n",
            "Requirement already satisfied: tokenizers<0.20,>=0.19 in /usr/local/lib/python3.10/dist-packages (from transformers<5.0.0,>=4.37.0->llama-index-llms-openai-like<0.2.0,>=0.1.3->llama-index-llms-groq) (0.19.1)\n",
            "Requirement already satisfied: safetensors>=0.4.1 in /usr/local/lib/python3.10/dist-packages (from transformers<5.0.0,>=4.37.0->llama-index-llms-openai-like<0.2.0,>=0.1.3->llama-index-llms-groq) (0.4.3)\n",
            "Requirement already satisfied: mypy-extensions>=0.3.0 in /usr/local/lib/python3.10/dist-packages (from typing-inspect>=0.8.0->llama-index-core<0.11.0,>=0.10.1->llama-index-llms-groq) (1.0.0)\n",
            "Requirement already satisfied: marshmallow<4.0.0,>=3.18.0 in /usr/local/lib/python3.10/dist-packages (from dataclasses-json->llama-index-core<0.11.0,>=0.10.1->llama-index-llms-groq) (3.21.3)\n",
            "Requirement already satisfied: python-dateutil>=2.8.2 in /usr/local/lib/python3.10/dist-packages (from pandas->llama-index-core<0.11.0,>=0.10.1->llama-index-llms-groq) (2.8.2)\n",
            "Requirement already satisfied: pytz>=2020.1 in /usr/local/lib/python3.10/dist-packages (from pandas->llama-index-core<0.11.0,>=0.10.1->llama-index-llms-groq) (2023.4)\n",
            "Requirement already satisfied: tzdata>=2022.1 in /usr/local/lib/python3.10/dist-packages (from pandas->llama-index-core<0.11.0,>=0.10.1->llama-index-llms-groq) (2024.1)\n",
            "Requirement already satisfied: exceptiongroup in /usr/local/lib/python3.10/dist-packages (from anyio<5,>=3.5.0->openai>=1.1.0->llama-index-core<0.11.0,>=0.10.1->llama-index-llms-groq) (1.2.1)\n",
            "Requirement already satisfied: annotated-types>=0.4.0 in /usr/local/lib/python3.10/dist-packages (from pydantic<3,>=1.9.0->openai>=1.1.0->llama-index-core<0.11.0,>=0.10.1->llama-index-llms-groq) (0.7.0)\n",
            "Requirement already satisfied: pydantic-core==2.20.1 in /usr/local/lib/python3.10/dist-packages (from pydantic<3,>=1.9.0->openai>=1.1.0->llama-index-core<0.11.0,>=0.10.1->llama-index-llms-groq) (2.20.1)\n",
            "Requirement already satisfied: six>=1.5 in /usr/local/lib/python3.10/dist-packages (from python-dateutil>=2.8.2->pandas->llama-index-core<0.11.0,>=0.10.1->llama-index-llms-groq) (1.16.0)\n",
            "Requirement already satisfied: llama-index in /usr/local/lib/python3.10/dist-packages (0.10.55)\n",
            "Requirement already satisfied: llama-index-agent-openai<0.3.0,>=0.1.4 in /usr/local/lib/python3.10/dist-packages (from llama-index) (0.2.8)\n",
            "Requirement already satisfied: llama-index-cli<0.2.0,>=0.1.2 in /usr/local/lib/python3.10/dist-packages (from llama-index) (0.1.12)\n",
            "Requirement already satisfied: llama-index-core==0.10.55 in /usr/local/lib/python3.10/dist-packages (from llama-index) (0.10.55)\n",
            "Requirement already satisfied: llama-index-embeddings-openai<0.2.0,>=0.1.5 in /usr/local/lib/python3.10/dist-packages (from llama-index) (0.1.10)\n",
            "Requirement already satisfied: llama-index-indices-managed-llama-cloud>=0.2.0 in /usr/local/lib/python3.10/dist-packages (from llama-index) (0.2.5)\n",
            "Requirement already satisfied: llama-index-legacy<0.10.0,>=0.9.48 in /usr/local/lib/python3.10/dist-packages (from llama-index) (0.9.48)\n",
            "Requirement already satisfied: llama-index-llms-openai<0.2.0,>=0.1.13 in /usr/local/lib/python3.10/dist-packages (from llama-index) (0.1.25)\n",
            "Requirement already satisfied: llama-index-multi-modal-llms-openai<0.2.0,>=0.1.3 in /usr/local/lib/python3.10/dist-packages (from llama-index) (0.1.7)\n",
            "Requirement already satisfied: llama-index-program-openai<0.2.0,>=0.1.3 in /usr/local/lib/python3.10/dist-packages (from llama-index) (0.1.6)\n",
            "Requirement already satisfied: llama-index-question-gen-openai<0.2.0,>=0.1.2 in /usr/local/lib/python3.10/dist-packages (from llama-index) (0.1.3)\n",
            "Requirement already satisfied: llama-index-readers-file<0.2.0,>=0.1.4 in /usr/local/lib/python3.10/dist-packages (from llama-index) (0.1.30)\n",
            "Requirement already satisfied: llama-index-readers-llama-parse>=0.1.2 in /usr/local/lib/python3.10/dist-packages (from llama-index) (0.1.6)\n",
            "Requirement already satisfied: PyYAML>=6.0.1 in /usr/local/lib/python3.10/dist-packages (from llama-index-core==0.10.55->llama-index) (6.0.1)\n",
            "Requirement already satisfied: SQLAlchemy[asyncio]>=1.4.49 in /usr/local/lib/python3.10/dist-packages (from llama-index-core==0.10.55->llama-index) (2.0.31)\n",
            "Requirement already satisfied: aiohttp<4.0.0,>=3.8.6 in /usr/local/lib/python3.10/dist-packages (from llama-index-core==0.10.55->llama-index) (3.9.5)\n",
            "Requirement already satisfied: dataclasses-json in /usr/local/lib/python3.10/dist-packages (from llama-index-core==0.10.55->llama-index) (0.6.7)\n",
            "Requirement already satisfied: deprecated>=1.2.9.3 in /usr/local/lib/python3.10/dist-packages (from llama-index-core==0.10.55->llama-index) (1.2.14)\n",
            "Requirement already satisfied: dirtyjson<2.0.0,>=1.0.8 in /usr/local/lib/python3.10/dist-packages (from llama-index-core==0.10.55->llama-index) (1.0.8)\n",
            "Requirement already satisfied: fsspec>=2023.5.0 in /usr/local/lib/python3.10/dist-packages (from llama-index-core==0.10.55->llama-index) (2023.6.0)\n",
            "Requirement already satisfied: httpx in /usr/local/lib/python3.10/dist-packages (from llama-index-core==0.10.55->llama-index) (0.27.0)\n",
            "Requirement already satisfied: nest-asyncio<2.0.0,>=1.5.8 in /usr/local/lib/python3.10/dist-packages (from llama-index-core==0.10.55->llama-index) (1.6.0)\n",
            "Requirement already satisfied: networkx>=3.0 in /usr/local/lib/python3.10/dist-packages (from llama-index-core==0.10.55->llama-index) (3.3)\n",
            "Requirement already satisfied: nltk<4.0.0,>=3.8.1 in /usr/local/lib/python3.10/dist-packages (from llama-index-core==0.10.55->llama-index) (3.8.1)\n",
            "Requirement already satisfied: numpy<2.0.0 in /usr/local/lib/python3.10/dist-packages (from llama-index-core==0.10.55->llama-index) (1.25.2)\n",
            "Requirement already satisfied: openai>=1.1.0 in /usr/local/lib/python3.10/dist-packages (from llama-index-core==0.10.55->llama-index) (1.35.14)\n",
            "Requirement already satisfied: pandas in /usr/local/lib/python3.10/dist-packages (from llama-index-core==0.10.55->llama-index) (2.0.3)\n",
            "Requirement already satisfied: pillow>=9.0.0 in /usr/local/lib/python3.10/dist-packages (from llama-index-core==0.10.55->llama-index) (9.4.0)\n",
            "Requirement already satisfied: requests>=2.31.0 in /usr/local/lib/python3.10/dist-packages (from llama-index-core==0.10.55->llama-index) (2.31.0)\n",
            "Requirement already satisfied: tenacity!=8.4.0,<9.0.0,>=8.2.0 in /usr/local/lib/python3.10/dist-packages (from llama-index-core==0.10.55->llama-index) (8.5.0)\n",
            "Requirement already satisfied: tiktoken>=0.3.3 in /usr/local/lib/python3.10/dist-packages (from llama-index-core==0.10.55->llama-index) (0.7.0)\n",
            "Requirement already satisfied: tqdm<5.0.0,>=4.66.1 in /usr/local/lib/python3.10/dist-packages (from llama-index-core==0.10.55->llama-index) (4.66.4)\n",
            "Requirement already satisfied: typing-extensions>=4.5.0 in /usr/local/lib/python3.10/dist-packages (from llama-index-core==0.10.55->llama-index) (4.12.2)\n",
            "Requirement already satisfied: typing-inspect>=0.8.0 in /usr/local/lib/python3.10/dist-packages (from llama-index-core==0.10.55->llama-index) (0.9.0)\n",
            "Requirement already satisfied: wrapt in /usr/local/lib/python3.10/dist-packages (from llama-index-core==0.10.55->llama-index) (1.14.1)\n",
            "Requirement already satisfied: llama-cloud>=0.0.9 in /usr/local/lib/python3.10/dist-packages (from llama-index-indices-managed-llama-cloud>=0.2.0->llama-index) (0.0.9)\n",
            "Requirement already satisfied: beautifulsoup4<5.0.0,>=4.12.3 in /usr/local/lib/python3.10/dist-packages (from llama-index-readers-file<0.2.0,>=0.1.4->llama-index) (4.12.3)\n",
            "Requirement already satisfied: pypdf<5.0.0,>=4.0.1 in /usr/local/lib/python3.10/dist-packages (from llama-index-readers-file<0.2.0,>=0.1.4->llama-index) (4.3.0)\n",
            "Requirement already satisfied: striprtf<0.0.27,>=0.0.26 in /usr/local/lib/python3.10/dist-packages (from llama-index-readers-file<0.2.0,>=0.1.4->llama-index) (0.0.26)\n",
            "Requirement already satisfied: llama-parse>=0.4.0 in /usr/local/lib/python3.10/dist-packages (from llama-index-readers-llama-parse>=0.1.2->llama-index) (0.4.7)\n",
            "Requirement already satisfied: aiosignal>=1.1.2 in /usr/local/lib/python3.10/dist-packages (from aiohttp<4.0.0,>=3.8.6->llama-index-core==0.10.55->llama-index) (1.3.1)\n",
            "Requirement already satisfied: attrs>=17.3.0 in /usr/local/lib/python3.10/dist-packages (from aiohttp<4.0.0,>=3.8.6->llama-index-core==0.10.55->llama-index) (23.2.0)\n",
            "Requirement already satisfied: frozenlist>=1.1.1 in /usr/local/lib/python3.10/dist-packages (from aiohttp<4.0.0,>=3.8.6->llama-index-core==0.10.55->llama-index) (1.4.1)\n",
            "Requirement already satisfied: multidict<7.0,>=4.5 in /usr/local/lib/python3.10/dist-packages (from aiohttp<4.0.0,>=3.8.6->llama-index-core==0.10.55->llama-index) (6.0.5)\n",
            "Requirement already satisfied: yarl<2.0,>=1.0 in /usr/local/lib/python3.10/dist-packages (from aiohttp<4.0.0,>=3.8.6->llama-index-core==0.10.55->llama-index) (1.9.4)\n",
            "Requirement already satisfied: async-timeout<5.0,>=4.0 in /usr/local/lib/python3.10/dist-packages (from aiohttp<4.0.0,>=3.8.6->llama-index-core==0.10.55->llama-index) (4.0.3)\n",
            "Requirement already satisfied: soupsieve>1.2 in /usr/local/lib/python3.10/dist-packages (from beautifulsoup4<5.0.0,>=4.12.3->llama-index-readers-file<0.2.0,>=0.1.4->llama-index) (2.5)\n",
            "Requirement already satisfied: pydantic>=1.10 in /usr/local/lib/python3.10/dist-packages (from llama-cloud>=0.0.9->llama-index-indices-managed-llama-cloud>=0.2.0->llama-index) (2.8.2)\n",
            "Requirement already satisfied: anyio in /usr/local/lib/python3.10/dist-packages (from httpx->llama-index-core==0.10.55->llama-index) (3.7.1)\n",
            "Requirement already satisfied: certifi in /usr/local/lib/python3.10/dist-packages (from httpx->llama-index-core==0.10.55->llama-index) (2024.7.4)\n",
            "Requirement already satisfied: httpcore==1.* in /usr/local/lib/python3.10/dist-packages (from httpx->llama-index-core==0.10.55->llama-index) (1.0.5)\n",
            "Requirement already satisfied: idna in /usr/local/lib/python3.10/dist-packages (from httpx->llama-index-core==0.10.55->llama-index) (3.7)\n",
            "Requirement already satisfied: sniffio in /usr/local/lib/python3.10/dist-packages (from httpx->llama-index-core==0.10.55->llama-index) (1.3.1)\n",
            "Requirement already satisfied: h11<0.15,>=0.13 in /usr/local/lib/python3.10/dist-packages (from httpcore==1.*->httpx->llama-index-core==0.10.55->llama-index) (0.14.0)\n",
            "Requirement already satisfied: click in /usr/local/lib/python3.10/dist-packages (from nltk<4.0.0,>=3.8.1->llama-index-core==0.10.55->llama-index) (8.1.7)\n",
            "Requirement already satisfied: joblib in /usr/local/lib/python3.10/dist-packages (from nltk<4.0.0,>=3.8.1->llama-index-core==0.10.55->llama-index) (1.4.2)\n",
            "Requirement already satisfied: regex>=2021.8.3 in /usr/local/lib/python3.10/dist-packages (from nltk<4.0.0,>=3.8.1->llama-index-core==0.10.55->llama-index) (2024.5.15)\n",
            "Requirement already satisfied: distro<2,>=1.7.0 in /usr/lib/python3/dist-packages (from openai>=1.1.0->llama-index-core==0.10.55->llama-index) (1.7.0)\n",
            "Requirement already satisfied: charset-normalizer<4,>=2 in /usr/local/lib/python3.10/dist-packages (from requests>=2.31.0->llama-index-core==0.10.55->llama-index) (3.3.2)\n",
            "Requirement already satisfied: urllib3<3,>=1.21.1 in /usr/local/lib/python3.10/dist-packages (from requests>=2.31.0->llama-index-core==0.10.55->llama-index) (2.0.7)\n",
            "Requirement already satisfied: greenlet!=0.4.17 in /usr/local/lib/python3.10/dist-packages (from SQLAlchemy[asyncio]>=1.4.49->llama-index-core==0.10.55->llama-index) (3.0.3)\n",
            "Requirement already satisfied: mypy-extensions>=0.3.0 in /usr/local/lib/python3.10/dist-packages (from typing-inspect>=0.8.0->llama-index-core==0.10.55->llama-index) (1.0.0)\n",
            "Requirement already satisfied: marshmallow<4.0.0,>=3.18.0 in /usr/local/lib/python3.10/dist-packages (from dataclasses-json->llama-index-core==0.10.55->llama-index) (3.21.3)\n",
            "Requirement already satisfied: python-dateutil>=2.8.2 in /usr/local/lib/python3.10/dist-packages (from pandas->llama-index-core==0.10.55->llama-index) (2.8.2)\n",
            "Requirement already satisfied: pytz>=2020.1 in /usr/local/lib/python3.10/dist-packages (from pandas->llama-index-core==0.10.55->llama-index) (2023.4)\n",
            "Requirement already satisfied: tzdata>=2022.1 in /usr/local/lib/python3.10/dist-packages (from pandas->llama-index-core==0.10.55->llama-index) (2024.1)\n",
            "Requirement already satisfied: exceptiongroup in /usr/local/lib/python3.10/dist-packages (from anyio->httpx->llama-index-core==0.10.55->llama-index) (1.2.1)\n",
            "Requirement already satisfied: packaging>=17.0 in /usr/local/lib/python3.10/dist-packages (from marshmallow<4.0.0,>=3.18.0->dataclasses-json->llama-index-core==0.10.55->llama-index) (24.1)\n",
            "Requirement already satisfied: annotated-types>=0.4.0 in /usr/local/lib/python3.10/dist-packages (from pydantic>=1.10->llama-cloud>=0.0.9->llama-index-indices-managed-llama-cloud>=0.2.0->llama-index) (0.7.0)\n",
            "Requirement already satisfied: pydantic-core==2.20.1 in /usr/local/lib/python3.10/dist-packages (from pydantic>=1.10->llama-cloud>=0.0.9->llama-index-indices-managed-llama-cloud>=0.2.0->llama-index) (2.20.1)\n",
            "Requirement already satisfied: six>=1.5 in /usr/local/lib/python3.10/dist-packages (from python-dateutil>=2.8.2->pandas->llama-index-core==0.10.55->llama-index) (1.16.0)\n",
            "Requirement already satisfied: pdfplumber in /usr/local/lib/python3.10/dist-packages (0.11.2)\n",
            "Requirement already satisfied: pdfminer.six==20231228 in /usr/local/lib/python3.10/dist-packages (from pdfplumber) (20231228)\n",
            "Requirement already satisfied: Pillow>=9.1 in /usr/local/lib/python3.10/dist-packages (from pdfplumber) (9.4.0)\n",
            "Requirement already satisfied: pypdfium2>=4.18.0 in /usr/local/lib/python3.10/dist-packages (from pdfplumber) (4.30.0)\n",
            "Requirement already satisfied: charset-normalizer>=2.0.0 in /usr/local/lib/python3.10/dist-packages (from pdfminer.six==20231228->pdfplumber) (3.3.2)\n",
            "Requirement already satisfied: cryptography>=36.0.0 in /usr/local/lib/python3.10/dist-packages (from pdfminer.six==20231228->pdfplumber) (42.0.8)\n",
            "Requirement already satisfied: cffi>=1.12 in /usr/local/lib/python3.10/dist-packages (from cryptography>=36.0.0->pdfminer.six==20231228->pdfplumber) (1.16.0)\n",
            "Requirement already satisfied: pycparser in /usr/local/lib/python3.10/dist-packages (from cffi>=1.12->cryptography>=36.0.0->pdfminer.six==20231228->pdfplumber) (2.22)\n",
            "Requirement already satisfied: scikit-learn in /usr/local/lib/python3.10/dist-packages (1.2.2)\n",
            "Requirement already satisfied: numpy>=1.17.3 in /usr/local/lib/python3.10/dist-packages (from scikit-learn) (1.25.2)\n",
            "Requirement already satisfied: scipy>=1.3.2 in /usr/local/lib/python3.10/dist-packages (from scikit-learn) (1.11.4)\n",
            "Requirement already satisfied: joblib>=1.1.1 in /usr/local/lib/python3.10/dist-packages (from scikit-learn) (1.4.2)\n",
            "Requirement already satisfied: threadpoolctl>=2.0.0 in /usr/local/lib/python3.10/dist-packages (from scikit-learn) (3.5.0)\n"
          ]
        }
      ],
      "source": [
        "!pip install llama-index-llms-groq\n",
        "!pip install llama-index\n",
        "!pip install pdfplumber\n",
        "!pip install scikit-learn"
      ]
    },
    {
      "cell_type": "code",
      "source": [
        "from llama_index.llms.groq import Groq\n",
        "import pdfplumber\n",
        "from sklearn.metrics import precision_score, recall_score, f1_score, confusion_matrix\n",
        "import numpy as np\n"
      ],
      "metadata": {
        "id": "mpYu_AJ1nii1"
      },
      "execution_count": null,
      "outputs": []
    },
    {
      "cell_type": "code",
      "source": [
        "# Create an API key at the Groq console (https://console.groq.com/keys)\n",
        "# Then set it to the environment variable GROQ_API_KEY or pass it directly\n",
        "\n",
        "api_key = \"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\"  # Replace with your actual API key\n",
        "llm = Groq(model=\"llama3-70b-8192\", api_key=api_key)\n"
      ],
      "metadata": {
        "id": "yhdSBDWknmlH"
      },
      "execution_count": null,
      "outputs": []
    },
    {
      "cell_type": "code",
      "source": [
        "def extract_text_with_pdfplumber(pdf_path):\n",
        "    text = \"\"\n",
        "    with pdfplumber.open(pdf_path) as pdf:\n",
        "        for page in pdf.pages:\n",
        "            text += page.extract_text()\n",
        "    return text\n",
        "\n",
        "# Example usage\n",
        "pdf_path = \"/content/agenda.pdf\"  # Replace with the path to your PDF file\n",
        "extracted_text = extract_text_with_pdfplumber(pdf_path)\n",
        "print(extracted_text)\n"
      ],
      "metadata": {
        "colab": {
          "base_uri": "https://localhost:8080/"
        },
        "id": "UNvBnppqpcE8",
        "outputId": "c48712f1-986a-4faa-d497-ba84e7b48706"
      },
      "execution_count": null,
      "outputs": [
        {
          "output_type": "stream",
          "name": "stdout",
          "text": [
            "Agenda\n",
            "Global IndiaAI Summit 2024 3-4 July 2024, New Delhi\n",
            "Day 1 - Wednesday, July 3\n",
            "Start Session Description\n",
            "10:00 - 11:00\n",
            "Opening Ceremony (Auditorium 1)\n",
            "11:00 – 13:30\n",
            "GPAI Session (@ Summit Room) : Executive Council Meeting\n",
            "(By Invitation only)\n",
            "11:30 - 13:00 Side Event 1 (@ The session is about learning and sharing knowledge on Large\n",
            "Auditorium 1): Language Models (LLMs) and Large Multimodal Models (LMMs),\n",
            "with the aim to understand the unique linguistic and cultural\n",
            "IndiaAI: Large diversity inherent to India, examining how LLMs can effectively\n",
            "Language Model address challenges associated with multilingualism. Furthermore,\n",
            "the session will cover the ethical considerations and biases linked\n",
            "to these models, promoting a discussion on responsible AI\n",
            "practices, including fairness, inclusiveness, misinformation\n",
            "mitigation, and intellectual property rights within diverse cultural\n",
            "contexts. Lastly, the session will focus on the collaborative\n",
            "opportunities among indigenous communities, academia,\n",
            "industry, and startups in the creation of indigenous foundational\n",
            "models.\n",
            "Side Event 2 (@ Room The goal of this Convening is to gather insights and feedback on\n",
            "No. X): the use of AI in healthcare to better understand the unique\n",
            "challenges faced by global south countries in integrating AI\n",
            "GPAI Convening on solutions. The insights gained will help GPAI refine its focus and\n",
            "Global Health and AI explore new directions for future endeavours, ensuring that these\n",
            "issues are addressed from all relevant contexts and perspectives.\n",
            "This convening will feature experts from various sectors, including\n",
            "government, international organisations, academia, industry, civil\n",
            "society, and other key stakeholders.\n",
            "Lunch: 13:30 - 14:30\n",
            "14:30 –16:30\n",
            "GPAI Session (@ Summit Room) : Ministerial Council Meeting\n",
            "(By Invitation only)\n",
            "14.30 -16:00 Side Event 3 (@ The case study presentations and panel discussion will bring\n",
            "Auditorium 1): together technical experts to share their experiences of creating\n",
            "real-world solutions, identify gaps in the development and\n",
            "IndiaAI: Real World AI deployment of AI solutions, and discover the next steps in the AI\n",
            "Solutions adoption journey. The learnings of implementing various AI use\n",
            "cases identified through this session would be the first step in\n",
            "creating a world-class ecosystem that advances the boundaries\n",
            "of AI knowledge and innovation through collaboration with\n",
            "industry, national and international academia, start-ups, and\n",
            "other stakeholders.Side Event 4 (@ Room The proposed panel discussion will focus on key issues related\n",
            "No. X): to the readiness of infrastructure in India, focusing on strategies\n",
            "for developing scalable and future-ready AI compute\n",
            "IndiaAI: India’s infrastructure. It will emphasise the critical role of a skilled\n",
            "Infrastructure workforce, from chip designers to orchestration engineers, in\n",
            "Readiness for AI establishing robust AI infrastructure. Additionally, the panel will\n",
            "explore strategies to make advanced AI compute services\n",
            "affordable for startups and AI researchers nationwide, ensuring\n",
            "accessibility and fostering innovation.\n",
            "17:00 – 18:30 Side Event 5 (@ This session explores India's commitment to leveraging AI for\n",
            "Auditorium 1): societal good, emphasising the country's strategic approach\n",
            "rooted in openness, safety, trust, and accountability.\n",
            "IndiaAI: Ensuring Discussions will focus on India's efforts to establish ethical\n",
            "Safety, Trust, and guidelines, enhance international cooperation, and prioritise\n",
            "Governance in the AI safe and trusted AI development, showcasing its dedication to\n",
            "Age creating a secure and trustworthy digital environment.\n",
            "Side Event 6 (@ Room The CAIGP Convening aims to bring together GPAI members,\n",
            "No. X): AI experts and industry representatives to identify mechanisms\n",
            "to overcome the global AI divide. This session shall be a\n",
            "Collaborative AI on development on previously identified goals of CAIGP, with focus\n",
            "Global Partnership on developing the role of GPAI in aligning global deliberations\n",
            "(CAIGP) on democratising AI resources and leading the implementation\n",
            "thereof. It shall particularly focus on identifying institutional\n",
            "mechanisms to enable the democratisation of AI resources and\n",
            "its benefits through GPAI. Additionally, focus shall also be laid\n",
            "on identifying roles and responsibilities of various stakeholders\n",
            "and ecosystem partners in furthering the thematic objectives of\n",
            "CAIGP.Agenda\n",
            "Global IndiaAI Summit 2024 3-4 July 2024, New Delhi\n",
            "Day 2 - Thursday, July 4\n",
            "Start Session Description\n",
            "10:00 - 11:30 Side Event 7 (@ The session will focus on the current industry demand, challenges,\n",
            "Room No. Y): and growth in AI skills, highlighting significant opportunities for job\n",
            "seekers. The panel would discuss the importance of AI skilling in\n",
            "IndiaAI: today's rapidly evolving technological landscape, emphasizing its\n",
            "Empowering Talent impact on employability, earning potential, and career growth. The\n",
            "through AI session will offer guidance to students, researchers, and\n",
            "Education & Skilling professionals on skilling and upskilling opportunities in essential AI\n",
            "technologies and skills, while also showcasing success stories and\n",
            "diverse career paths in AI.\n",
            "Side Event 8 (@ This side session aims to bring together the Global South to\n",
            "Room No. X): deliberate on the specific challenges and priorities of the Global\n",
            "South for harnessing the potential of AI. The design, development,\n",
            "AI for Global Good: and deployment of artificial intelligence (AI), as well as its associated\n",
            "Empowering the challenges, have been extensively deliberated by the Global North,\n",
            "Global South largely in the context of their local economies. This has led to AI\n",
            "technology and governance methods being passed down from the\n",
            "(By Invitation only) Global North to the Global South, without adequate\n",
            "contextualisation. The round table session will also explore\n",
            "mechanisms for empowering the voices of the Global South,\n",
            "including the possibility of creating a new multilateral organisation to\n",
            "help Global South countries gain a voice and bring to the forefront\n",
            "their collective challenges and priorities in the AI development space.\n",
            "12:00 - 13:30 Side Event 9 (@ This side session aims to forge a path towards a self-sufficient India,\n",
            "Room No. Y): where the startup ecosystem not only thrives on its own merits but\n",
            "also contributes significantly to the global market. It seeks to\n",
            "IndiaAI: From Seed acknowledge the strides made through existing initiatives and\n",
            "to Scale- assess the current landscape. The session will explore strategies to\n",
            "Empowering India’s further bolster this growth, ensuring India's AI startups are well-\n",
            "Startup Ecosystem equipped to innovate and expand, reinforcing India's position as a\n",
            "leader in the global AI industry.\n",
            "GPAI Session (@ Room No. X) : Innovation Workshop Followup\n",
            "Lunch: 13:30 - 14:30\n",
            "14:30 –16:00 Side Event 10 (@ The session aims to explore strategies for developing resilient and\n",
            "Room No. X): scalable data infrastructure to support the growth of the AI\n",
            "ecosystem, with focus on the importance of robust data\n",
            "IndiaAI: Data governance frameworks that ensure data privacy, security, and\n",
            "Ecosystem ethical use. Additionally, the panel will examine the potential for\n",
            "data sharing frameworks and platforms that enable seamless data\n",
            "exchange while maintaining sovereignty and trust. Lastly, the panel\n",
            "will discuss mitigating data bias to ensure ethical and unbiased AI\n",
            "systems by emphasising data quality, representativeness, and\n",
            "fairness.\n",
            "Side Event 11 (@ This session will explore how India is preparing to become \"AI-\n",
            "Room No. Y): ready,\" focusing on the transformative potential of Artificial\n",
            "Intelligence (AI) in public services. To realise this potential, it is\n",
            "crucial to understand the foundational requirements for integratingAI Competency AI seamlessly, including digital expertise among government\n",
            "Framework for officials. The session will reference the UNESCO Report on AI\n",
            "Public Sector competencies for civil servants and examine the Capacity Building\n",
            "Commission's (CBC) framework to develop an AI upskilling\n",
            "roadmap for the Indian public sector. Expert feedback and\n",
            "collaborative discussions will aim to identify specific AI\n",
            "competencies required by public officials and provide actionable\n",
            "guidelines for future training and capacity-building programs.\n",
            "16:30 -18:00 Side Event 12 (@ Building upon the success of the GPAI virtual convening, the\n",
            "Room No. Y): Global India AI summit will include a dedicated session to further\n",
            "critical discourse on the sub-domains of Crop Advisory, Market\n",
            "Sustainable Access and Financial Services for Farmers and Climate Resilient\n",
            "Agriculture Agriculture. This upcoming session aims to showcase case study\n",
            "presentation that will be followed by a panel discussion to explore\n",
            "synergies, and cross sectoral opportunities in implementing AI to\n",
            "enhance yields and inform smallholder farmer efforts for\n",
            "agricultural output\n",
            "18:00: High Tea\n"
          ]
        }
      ]
    },
    {
      "cell_type": "code",
      "source": [
        "# Define a list of questions and their expected answers (true labels)\n",
        "questions_and_answers = [\n",
        "    (\"What is the name of the summit?\", \"Global IndiaAI Summit 2024\"),\n",
        "    (\"When and where is the Global IndiaAI Summit 2024 taking place?\", \"3-4 July 2024, New Delhi\"),\n",
        "    (\"What is the time and venue for the opening ceremony on Day 1?\", \"10:00 - 11:00 at Auditorium 1\"),\n",
        "    (\"What is the GPAI Session about at 11:00 on Day 1?\", \"Executive Council Meeting (By Invitation only)\"),\n",
        "]"
      ],
      "metadata": {
        "id": "C1q3uGdNXj-U"
      },
      "execution_count": null,
      "outputs": []
    },
    {
      "cell_type": "code",
      "source": [
        "!pip install rouge-score"
      ],
      "metadata": {
        "colab": {
          "base_uri": "https://localhost:8080/"
        },
        "id": "hVj8FJLPaW_X",
        "outputId": "0dcca94e-2a5d-4c03-d9f7-876e224a069f"
      },
      "execution_count": null,
      "outputs": [
        {
          "output_type": "stream",
          "name": "stdout",
          "text": [
            "Requirement already satisfied: rouge-score in /usr/local/lib/python3.10/dist-packages (0.1.2)\n",
            "Requirement already satisfied: absl-py in /usr/local/lib/python3.10/dist-packages (from rouge-score) (1.4.0)\n",
            "Requirement already satisfied: nltk in /usr/local/lib/python3.10/dist-packages (from rouge-score) (3.8.1)\n",
            "Requirement already satisfied: numpy in /usr/local/lib/python3.10/dist-packages (from rouge-score) (1.25.2)\n",
            "Requirement already satisfied: six>=1.14.0 in /usr/local/lib/python3.10/dist-packages (from rouge-score) (1.16.0)\n",
            "Requirement already satisfied: click in /usr/local/lib/python3.10/dist-packages (from nltk->rouge-score) (8.1.7)\n",
            "Requirement already satisfied: joblib in /usr/local/lib/python3.10/dist-packages (from nltk->rouge-score) (1.4.2)\n",
            "Requirement already satisfied: regex>=2021.8.3 in /usr/local/lib/python3.10/dist-packages (from nltk->rouge-score) (2024.5.15)\n",
            "Requirement already satisfied: tqdm in /usr/local/lib/python3.10/dist-packages (from nltk->rouge-score) (4.66.4)\n"
          ]
        }
      ]
    },
    {
      "cell_type": "code",
      "source": [
        "from rouge_score import rouge_scorer"
      ],
      "metadata": {
        "id": "-PSBJDYKb6r4"
      },
      "execution_count": null,
      "outputs": []
    },
    {
      "cell_type": "code",
      "source": [
        "# Function to ask questions and get predictions from the model\n",
        "def ask_questions(text, questions_and_answers):\n",
        "    true_labels = []\n",
        "    predicted_labels = []\n",
        "\n",
        "    for question, true_answer in questions_and_answers:\n",
        "        true_labels.append(true_answer)\n",
        "        response = llm.complete(f\" Give one word answers based on {text}, for the question: {question}\")\n",
        "        predicted_labels.append(response.text.strip())  # Accessing the text attribute directly\n",
        "\n",
        "    return true_labels, predicted_labels\n",
        "\n",
        "# Example usage\n",
        "true_labels, predicted_labels = ask_questions(extracted_text, questions_and_answers)\n",
        "print(\"True Labels:\")\n",
        "print(true_labels)\n",
        "print(\"Predicted Labels:\")\n",
        "print(predicted_labels)\n"
      ],
      "metadata": {
        "colab": {
          "base_uri": "https://localhost:8080/"
        },
        "id": "4Toxe-gIqwYf",
        "outputId": "430be4fc-2e0c-48a7-fe77-68cbcf4d0130"
      },
      "execution_count": null,
      "outputs": [
        {
          "output_type": "stream",
          "name": "stdout",
          "text": [
            "True Labels:\n",
            "['Global IndiaAI Summit 2024 is happening in New Delhi on 3rd and 4th July.']\n",
            "Predicted Labels:\n",
            "['Here are the names of events mentioned in the agenda:\\n\\n1. Opening Ceremony\\n2. GPAI Session: Executive Council Meeting\\n3. Side Event 1: Large Language Models (LLMs) and Large Multimodal Models (LMMs)\\n4. Side Event 2: GPAI Convening on Global Health and AI\\n5. GPAI Session: Ministerial Council Meeting\\n6. Side Event 3: Real World AI Solutions\\n7. Side Event 4: India’s Infrastructure Readiness for AI\\n8. Side Event 5: Ensuring Safety, Trust, and Governance in the AI Age\\n9. Side Event 6: Collaborative AI on Global Partnership (CAIGP)\\n10. Side Event 7: Empowering Talent through AI Education & Skilling\\n11. Side Event 8: AI for Global Good: Empowering the Global South\\n12. Side Event 9: From Seed to Scale - Empowering India’s Startup Ecosystem\\n13. GPAI Session: Innovation Workshop Followup\\n14. Side Event 10: Data Ecosystem\\n15. Side Event 11: AI Competency Framework for Public Sector\\n16. Side Event 12: Sustainable Access and Financial Services for Farmers and Climate Resilient Agriculture']\n"
          ]
        }
      ]
    },
    {
      "cell_type": "code",
      "source": [
        "# Function to evaluate model using token-level comparisons\n",
        "def evaluate_model(true_labels, predicted_labels):\n",
        "    correct_count = 0\n",
        "    total_count = len(true_labels)\n",
        "\n",
        "    for true_label, predicted_label in zip(true_labels, predicted_labels):\n",
        "        # Tokenize and convert to sets\n",
        "        true_tokens = set(true_label.lower().split())\n",
        "        predicted_tokens = set(predicted_label.lower().split())\n",
        "\n",
        "        # Calculate intersection\n",
        "        intersection = true_tokens.intersection(predicted_tokens)\n",
        "\n",
        "        # If there is any intersection, count it as correct (lenient matching)\n",
        "        if intersection:\n",
        "            correct_count += 1\n",
        "\n",
        "    precision = correct_count / total_count\n",
        "    recall = correct_count / total_count\n",
        "    f1 = 2 * (precision * recall) / (precision + recall) if (precision + recall) > 0 else 0\n",
        "\n",
        "    return precision, recall, f1\n",
        "\n",
        "precision, recall, f1 = evaluate_model(true_labels, predicted_labels)\n",
        "print(f\"Precision: {precision}\")\n",
        "print(f\"Recall: {recall}\")\n",
        "print(f\"F1 Score: {f1}\")\n"
      ],
      "metadata": {
        "colab": {
          "base_uri": "https://localhost:8080/"
        },
        "id": "lo4aLtl0crj3",
        "outputId": "60863603-a77f-4082-d672-28b28821b7aa"
      },
      "execution_count": null,
      "outputs": [
        {
          "output_type": "stream",
          "name": "stdout",
          "text": [
            "Precision: 1.0\n",
            "Recall: 1.0\n",
            "F1 Score: 1.0\n"
          ]
        }
      ]
    },
    {
      "cell_type": "code",
      "source": [
        "# Print each question, true answer, and predicted answer\n",
        "print(\"Comparison of True and Predicted Answers:\")\n",
        "for i, (true_label, predicted_label) in enumerate(zip(true_labels, predicted_labels)):\n",
        "    print(f\"Question {i + 1}:\")\n",
        "    print(f\"True Answer: {true_label}\")\n",
        "    print(f\"Predicted Answer: {predicted_label}\")\n",
        "    if true_label != predicted_label:\n",
        "        print(\"--> Score impacted: Check precision and recall for this question.\")\n",
        "    print()\n"
      ],
      "metadata": {
        "colab": {
          "base_uri": "https://localhost:8080/"
        },
        "id": "Qrj_rYzTq89h",
        "outputId": "ab23743d-878d-46af-df69-b4a402f3b06b"
      },
      "execution_count": null,
      "outputs": [
        {
          "output_type": "stream",
          "name": "stdout",
          "text": [
            "Comparison of True and Predicted Answers:\n",
            "Question 1:\n",
            "True Answer: Global IndiaAI Summit 2024 is happening in New Delhi on 3rd and 4th July. Agenda of the events are shared.\n",
            "Predicted Answer: Here is a 30-word summary of the Global IndiaAI Summit 2024 agenda:\n",
            "\n",
            "The 2-day summit features 12 side events, 3 GPAI sessions, and an opening ceremony, covering AI topics like language models, healthcare, infrastructure, governance, and more.\n",
            "--> Score impacted: Check precision and recall for this question.\n",
            "\n"
          ]
        }
      ]
    },
    {
      "cell_type": "code",
      "source": [
        "# Function to calculate precision, recall, and F1 score for each answer\n",
        "def calculate_scores(true_label, predicted_label):\n",
        "    true_tokens = set(true_label.lower().split())\n",
        "    predicted_tokens = set(predicted_label.lower().split())\n",
        "\n",
        "    intersection = true_tokens.intersection(predicted_tokens)\n",
        "    precision = len(intersection) / len(predicted_tokens) if predicted_tokens else 0\n",
        "    recall = len(intersection) / len(true_tokens) if true_tokens else 0\n",
        "    f1 = 2 * (precision * recall) / (precision + recall) if (precision + recall) > 0 else 0\n",
        "\n",
        "    return precision, recall, f1\n",
        "\n",
        "# Function to evaluate model using token-level comparisons and print details\n",
        "def evaluate_and_print(true_labels, predicted_labels):\n",
        "    total_precision, total_recall, total_f1 = 0, 0, 0\n",
        "    total_count = len(true_labels)\n",
        "\n",
        "    print(\"Comparison of True and Predicted Answers with Scores:\")\n",
        "    for i, (true_label, predicted_label) in enumerate(zip(true_labels, predicted_labels)):\n",
        "        precision, recall, f1 = calculate_scores(true_label, predicted_label)\n",
        "        total_precision += precision\n",
        "        total_recall += recall\n",
        "        total_f1 += f1\n",
        "\n",
        "        print(f\"Question {i + 1}:\")\n",
        "        print(f\"True Answer: {true_label}\")\n",
        "        print(f\"Predicted Answer: {predicted_label}\")\n",
        "        print(f\"Precision: {precision:.2f}\")\n",
        "        print(f\"Recall: {recall:.2f}\")\n",
        "        print(f\"F1 Score: {f1:.2f}\")\n",
        "        print()\n",
        "\n",
        "    avg_precision = total_precision / total_count\n",
        "    avg_recall = total_recall / total_count\n",
        "    avg_f1 = total_f1 / total_count\n",
        "\n",
        "    print(f\"Average Precision: {avg_precision:.2f}\")\n",
        "    print(f\"Average Recall: {avg_recall:.2f}\")\n",
        "    print(f\"Average F1 Score: {avg_f1:.2f}\")\n",
        "\n",
        "# Example usage\n",
        "evaluate_and_print(true_labels, predicted_labels)\n"
      ],
      "metadata": {
        "colab": {
          "base_uri": "https://localhost:8080/"
        },
        "id": "3n2pjsg2sPcE",
        "outputId": "fe1758a6-125a-4f5d-9e9b-859254fcaa33"
      },
      "execution_count": null,
      "outputs": [
        {
          "output_type": "stream",
          "name": "stdout",
          "text": [
            "Comparison of True and Predicted Answers with Scores:\n",
            "Question 1:\n",
            "True Answer: Global IndiaAI Summit 2024 is happening in New Delhi on 3rd and 4th July.\n",
            "Predicted Answer: Here is the summary of the Global IndiaAI Summit 2024:\n",
            "\n",
            "**Day 1 - Wednesday, July 3**\n",
            "\n",
            "1. Opening Ceremony\n",
            "2. GPAI Session: Executive Council Meeting (By Invitation only)\n",
            "3. Side Event 1: Large Language Models and Large Multimodal Models\n",
            "4. Side Event 2: GPAI Convening on Global Health and AI\n",
            "5. GPAI Session: Ministerial Council Meeting (By Invitation only)\n",
            "6. Side Event 3: Real World AI Solutions\n",
            "7. Side Event 4: India's Infrastructure Readiness for AI\n",
            "8. Side Event 5: Ensuring Safety, Trust, and Governance in the AI Age\n",
            "9. Side Event 6: Collaborative AI on Global Partnership (CAIGP)\n",
            "\n",
            "**Day 2 - Thursday, July 4**\n",
            "\n",
            "1. Side Event 7: Empowering Talent through AI Education & Skilling\n",
            "2. Side Event 8: AI for Global Good: Empowering the Global South\n",
            "3. Side Event 9: From Seed to Scale - Empowering India's Startup Ecosystem\n",
            "4. GPAI Session: Innovation Workshop Followup\n",
            "5. Side Event 10: Data Ecosystem\n",
            "6. Side Event 11: AI Competency Framework for Public Sector\n",
            "7. Side Event 12: Sustainable Access and Financial Services for Farmers and Climate Resilient Agriculture\n",
            "Precision: 0.07\n",
            "Recall: 0.50\n",
            "F1 Score: 0.12\n",
            "\n",
            "Average Precision: 0.07\n",
            "Average Recall: 0.50\n",
            "Average F1 Score: 0.12\n"
          ]
        }
      ]
    },
    {
      "cell_type": "code",
      "source": [
        "# Function to calculate ROUGE scores\n",
        "def calculate_rouge(true_label, predicted_label):\n",
        "    scorer = rouge_scorer.RougeScorer(['rouge1', 'rouge2', 'rougeL'], use_stemmer=True)\n",
        "    scores = scorer.score(true_label, predicted_label)\n",
        "    return scores\n",
        "\n",
        "# Function to evaluate model using ROUGE scores\n",
        "def evaluate_with_rouge(true_labels, predicted_labels):\n",
        "    total_rouge1, total_rouge2, total_rougeL = 0, 0, 0\n",
        "    count = len(true_labels)\n",
        "\n",
        "    for true_label, predicted_label in zip(true_labels, predicted_labels):\n",
        "        scores = calculate_rouge(true_label, predicted_label)\n",
        "        total_rouge1 += scores['rouge1'].fmeasure\n",
        "        total_rouge2 += scores['rouge2'].fmeasure\n",
        "        total_rougeL += scores['rougeL'].fmeasure\n",
        "\n",
        "    avg_rouge1 = total_rouge1 / count\n",
        "    avg_rouge2 = total_rouge2 / count\n",
        "    avg_rougeL = total_rougeL / count\n",
        "\n",
        "    return avg_rouge1, avg_rouge2, avg_rougeL\n",
        "\n",
        "# Example usage\n",
        "avg_rouge1, avg_rouge2, avg_rougeL = evaluate_with_rouge(true_labels, predicted_labels)\n",
        "print(f\"ROUGE-1: {avg_rouge1:.2f}\")\n",
        "print(f\"ROUGE-2: {avg_rouge2:.2f}\")\n",
        "print(f\"ROUGE-L: {avg_rougeL:.2f}\")\n"
      ],
      "metadata": {
        "colab": {
          "base_uri": "https://localhost:8080/"
        },
        "id": "t6NhXBHgq-tB",
        "outputId": "cc8310f2-1e3e-4978-a468-b97f68f79268"
      },
      "execution_count": null,
      "outputs": [
        {
          "output_type": "stream",
          "name": "stdout",
          "text": [
            "ROUGE-1: 0.09\n",
            "ROUGE-2: 0.03\n",
            "ROUGE-L: 0.07\n"
          ]
        }
      ]
    },
    {
      "cell_type": "code",
      "source": [],
      "metadata": {
        "id": "3xkKL85rt567"
      },
      "execution_count": null,
      "outputs": []
    }
  ]
}