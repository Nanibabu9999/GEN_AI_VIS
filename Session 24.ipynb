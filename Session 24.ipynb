{
  "cells": [
    {
      "cell_type": "markdown",
      "source": [
        "For Testing In Visual Studio Code"
      ],
      "metadata": {
        "id": "CT3U_npNu6eg"
      }
    },
    {
      "cell_type": "markdown",
      "source": [
        "1. Generative Fill\n",
        "\n",
        "**Filename** - main.py"
      ],
      "metadata": {
        "id": "RU4PAgajaabQ"
      }
    },
    {
      "cell_type": "markdown",
      "source": [],
      "metadata": {
        "id": "v3Sr1-6nu5Ew"
      }
    },
    {
      "cell_type": "code",
      "source": [
        "import streamlit as st\n",
        "import cloudinary\n",
        "import cloudinary.uploader\n",
        "from cloudinary.utils import cloudinary_url\n",
        "from PIL import Image\n",
        "import requests\n",
        "import io\n",
        "\n",
        "# Configure Cloudinary\n",
        "cloudinary.config(\n",
        "    cloud_name=\"dx6luakep\",\n",
        "    api_key=\"661933616146216\",\n",
        "    api_secret=\"bu-WDRjHvteqWeowPkVOwYwpGLs\",\n",
        "    secure=True\n",
        ")\n",
        "\n",
        "# Streamlit app\n",
        "st.title(\"Image Extension with Cloudinary's Gen Fill\")\n",
        "\n",
        "# Upload image\n",
        "uploaded_file = st.file_uploader(\"Upload an image\", type=[\"jpg\", \"jpeg\", \"png\"])\n",
        "\n",
        "if uploaded_file is not None:\n",
        "    # Save uploaded file temporarily\n",
        "    with open(\"temp_image.jpg\", \"wb\") as f:\n",
        "        f.write(uploaded_file.getbuffer())\n",
        "\n",
        "    # Display uploaded image\n",
        "    st.image(\"temp_image.jpg\", caption=\"Uploaded Image\", use_column_width=True)\n",
        "\n",
        "    # Select aspect ratio\n",
        "    aspect_ratio = st.selectbox(\n",
        "        \"Select Aspect Ratio\",\n",
        "        options=[\"1:1\", \"4:3\", \"16:9\"],\n",
        "        index=0\n",
        "    )\n",
        "\n",
        "    # Select gravity\n",
        "    gravity = st.selectbox(\n",
        "        \"Select Gravity\",\n",
        "        options=[\"center\", \"north\", \"south\", \"east\", \"west\"],\n",
        "        index=0\n",
        "    )\n",
        "\n",
        "    # Select extension size\n",
        "    size = st.slider(\"Select Extension Size (in pixels)\", 100, 1000, 500)\n",
        "\n",
        "    # Generate button\n",
        "    if st.button(\"Extend Image\"):\n",
        "        # Upload the image to Cloudinary\n",
        "        upload_result = cloudinary.uploader.upload(\"temp_image.jpg\", public_id=\"genfill-image\")\n",
        "\n",
        "        # Generate the extended image URL\n",
        "        extended_image_url, _ = cloudinary_url(\n",
        "            \"genfill-image\",\n",
        "            aspect_ratio=aspect_ratio,\n",
        "            gravity=gravity,\n",
        "            background=\"gen_fill\",\n",
        "            crop=\"pad\",\n",
        "            width=size\n",
        "        )\n",
        "\n",
        "        # Load images\n",
        "        original_image = Image.open(\"temp_image.jpg\")\n",
        "\n",
        "        # Fetch the extended image from the generated URL\n",
        "        response = requests.get(extended_image_url)\n",
        "        extended_image = Image.open(io.BytesIO(response.content))\n",
        "\n",
        "        # Display slider\n",
        "        st.subheader(\"Compare Images\")\n",
        "        col1, col2 = st.columns([1, 1])\n",
        "\n",
        "        with col1:\n",
        "            st.image(original_image, caption=\"Original Image\", use_column_width=True)\n",
        "\n",
        "        with col2:\n",
        "            st.image(extended_image, caption=\"Extended Image\", use_column_width=True)\n"
      ],
      "metadata": {
        "id": "3UNFM9YF8LrP"
      },
      "execution_count": null,
      "outputs": []
    },
    {
      "cell_type": "markdown",
      "source": [
        "requirements.txt"
      ],
      "metadata": {
        "id": "rwcWaS1jvIIo"
      }
    },
    {
      "cell_type": "code",
      "source": [
        "streamlit\n",
        "requests\n",
        "cloudinary\n",
        "Pillow\n"
      ],
      "metadata": {
        "id": "J3CSXPQKvGYO"
      },
      "execution_count": null,
      "outputs": []
    },
    {
      "cell_type": "markdown",
      "source": [
        "pip install -r requirements.txt"
      ],
      "metadata": {
        "id": "YAyvzqzNvMLz"
      }
    },
    {
      "cell_type": "code",
      "source": [
        "streamlit run main.py"
      ],
      "metadata": {
        "id": "M6apjin-vS71"
      },
      "execution_count": null,
      "outputs": []
    },
    {
      "cell_type": "markdown",
      "source": [
        "For replacing\n",
        "\n",
        "**Filename** - main.py  "
      ],
      "metadata": {
        "id": "ERjgusY1Z1YK"
      }
    },
    {
      "cell_type": "code",
      "source": [
        "import streamlit as st\n",
        "import cloudinary\n",
        "import cloudinary.uploader\n",
        "from cloudinary.utils import cloudinary_url\n",
        "from PIL import Image\n",
        "import requests\n",
        "import io\n",
        "\n",
        "# Configure Cloudinary\n",
        "cloudinary.config(\n",
        "    cloud_name=\"dx6luakep\",\n",
        "    api_key=\"661933616146216\",\n",
        "    api_secret=\"bu-WDRjHvteqWeowPkVOwYwpGLs\",\n",
        "    secure=True\n",
        ")\n",
        "\n",
        "# Streamlit app for replacing items using Cloudinary's Gen Fill\n",
        "st.title(\"Image Replace with Cloudinary's Gen Fill\")\n",
        "\n",
        "# Upload image\n",
        "uploaded_file = st.file_uploader(\"Upload an image\", type=[\"jpg\", \"jpeg\", \"png\"])\n",
        "\n",
        "if uploaded_file is not None:\n",
        "    # Save uploaded file temporarily\n",
        "    with open(\"temp_image.jpg\", \"wb\") as f:\n",
        "        f.write(uploaded_file.getbuffer())\n",
        "\n",
        "    # Display uploaded image\n",
        "    st.image(\"temp_image.jpg\", caption=\"Uploaded Image\", use_column_width=True)\n",
        "\n",
        "    # Input fields for replacing items\n",
        "    item_to_replace = st.text_input(\"Item to Replace\", \"sweater\")\n",
        "    replace_with = st.text_input(\"Replace With\", \"leather jacket with pockets\")\n",
        "\n",
        "    # Generate button for replacement\n",
        "    if st.button(\"Replace Item\"):\n",
        "        # Upload the image to Cloudinary\n",
        "        upload_result = cloudinary.uploader.upload(\"temp_image.jpg\", public_id=\"replace-image\")\n",
        "\n",
        "        # Generate the replacement image URL\n",
        "        replacement_effect = f\"gen_replace:from_{item_to_replace};to_{replace_with}\"\n",
        "        replaced_image_url, _ = cloudinary_url(\n",
        "            \"replace-image\",\n",
        "            effect=replacement_effect\n",
        "        )\n",
        "\n",
        "        # Load images\n",
        "        original_image = Image.open(\"temp_image.jpg\")\n",
        "\n",
        "        # Fetch the transformed image from the generated URL\n",
        "        response = requests.get(replaced_image_url)\n",
        "        transformed_image = Image.open(io.BytesIO(response.content))\n",
        "\n",
        "        # Display slider\n",
        "        st.subheader(\"Compare Images\")\n",
        "        col1, col2 = st.columns([1, 1])\n",
        "\n",
        "        with col1:\n",
        "            st.image(original_image, caption=\"Original Image\", use_column_width=True)\n",
        "\n",
        "        with col2:\n",
        "            st.image(transformed_image, caption=\"Transformed Image\", use_column_width=True)\n",
        "\n",
        "\n"
      ],
      "metadata": {
        "id": "QzV_h3dCZxqp"
      },
      "execution_count": null,
      "outputs": []
    },
    {
      "cell_type": "markdown",
      "source": [
        "**File name** - requirements.txt"
      ],
      "metadata": {
        "id": "XxERY6AFLjkH"
      }
    },
    {
      "cell_type": "code",
      "source": [
        "streamlit\n",
        "requests\n",
        "cloudinary\n",
        "Pillow\n"
      ],
      "metadata": {
        "id": "t869O37rpSe0"
      },
      "execution_count": null,
      "outputs": []
    },
    {
      "cell_type": "code",
      "source": [
        "pip install -r requirements.txt"
      ],
      "metadata": {
        "id": "60pAvax4DAuL"
      },
      "execution_count": null,
      "outputs": []
    },
    {
      "cell_type": "code",
      "source": [
        "streamlit run main.py\n",
        "\n",
        "or\n",
        "\n",
        "python -m streamlit run main.py"
      ],
      "metadata": {
        "id": "_PHOvMlep1nf"
      },
      "execution_count": null,
      "outputs": []
    }
  ],
  "metadata": {
    "colab": {
      "provenance": []
    },
    "kernelspec": {
      "display_name": "Python 3",
      "name": "python3"
    },
    "language_info": {
      "name": "python"
    }
  },
  "nbformat": 4,
  "nbformat_minor": 0
}