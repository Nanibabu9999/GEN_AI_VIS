{
  "nbformat": 4,
  "nbformat_minor": 0,
  "metadata": {
    "colab": {
      "provenance": []
    },
    "kernelspec": {
      "name": "python3",
      "display_name": "Python 3"
    },
    "language_info": {
      "name": "python"
    }
  },
  "cells": [
    {
      "cell_type": "markdown",
      "source": [
        "What is Finetuning?"
      ],
      "metadata": {
        "id": "IE-AdcF_ShbX"
      }
    },
    {
      "cell_type": "code",
      "execution_count": null,
      "metadata": {
        "id": "U4kv10hQSXPh"
      },
      "outputs": [],
      "source": [
        "https://www.lamini.ai/"
      ]
    },
    {
      "cell_type": "markdown",
      "source": [
        "What is Data Set?"
      ],
      "metadata": {
        "id": "tTYG-HwwSjvr"
      }
    },
    {
      "cell_type": "code",
      "source": [
        "https://www.kaggle.com/datasets/"
      ],
      "metadata": {
        "id": "zFWJgIrfSbVk"
      },
      "execution_count": null,
      "outputs": []
    },
    {
      "cell_type": "code",
      "source": [
        "https://huggingface.co/datasets"
      ],
      "metadata": {
        "id": "JgLUNY_ub7Wk"
      },
      "execution_count": null,
      "outputs": []
    },
    {
      "cell_type": "markdown",
      "source": [
        "What is Json?"
      ],
      "metadata": {
        "id": "XZzN0i7tdxlg"
      }
    },
    {
      "cell_type": "code",
      "source": [
        "https://csvjson.com/csv2json"
      ],
      "metadata": {
        "id": "yF34NaHYd1QY"
      },
      "execution_count": null,
      "outputs": []
    },
    {
      "cell_type": "markdown",
      "source": [
        "What is JsonL?"
      ],
      "metadata": {
        "id": "ZvnYtohBfrqt"
      }
    },
    {
      "cell_type": "code",
      "source": [
        "https://yourgpt.ai/tools/json-to-jsonline"
      ],
      "metadata": {
        "id": "osvELakkfvz3"
      },
      "execution_count": null,
      "outputs": []
    }
  ]
}