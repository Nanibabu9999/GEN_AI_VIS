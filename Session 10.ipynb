{
  "nbformat": 4,
  "nbformat_minor": 0,
  "metadata": {
    "colab": {
      "provenance": []
    },
    "kernelspec": {
      "name": "python3",
      "display_name": "Python 3"
    },
    "language_info": {
      "name": "python"
    }
  },
  "cells": [
    {
      "cell_type": "markdown",
      "source": [
        " **Introduction to Streamlit**"
      ],
      "metadata": {
        "id": "RsHt4hvlJu_N"
      }
    },
    {
      "cell_type": "markdown",
      "source": [
        " IDE like Visual Studio Code and Python Installed (Recommended)\n",
        "\n",
        "Requirements:\n",
        "Python (3.7 or later)\n",
        "PIP (Python package installer)\n",
        "\n",
        "for Testing\n",
        "py.cafe\n",
        "or codespaces"
      ],
      "metadata": {
        "id": "6vXpP46UJ0NV"
      }
    },
    {
      "cell_type": "markdown",
      "source": [
        "**Run this below line in Terminal**"
      ],
      "metadata": {
        "id": "NIpZ4DLkNRJd"
      }
    },
    {
      "cell_type": "markdown",
      "source": [
        "**main.py**"
      ],
      "metadata": {
        "id": "V3gTNzhdNOgr"
      }
    },
    {
      "cell_type": "code",
      "source": [
        "import streamlit as st\n",
        "from groq import Groq\n",
        "\n",
        "# Initialize the Groq client\n",
        "GROQ_API_KEY = 'key'\n",
        "client = Groq(api_key=GROQ_API_KEY)\n",
        "MODEL = 'llama3-70b-8192'\n",
        "\n",
        "def get_groq_response(question):\n",
        "    messages = [\n",
        "        {\n",
        "            \"role\": \"system\",\n",
        "            \"content\": \"You are a chat bot designed only to answer questions about cricketer Sachin Tendulkar. You do not know anything else. If someone asks questions on topics apart from Sachin Tendulkar, just say you don't know.\"\n",
        "        },\n",
        "        {\n",
        "            \"role\": \"user\",\n",
        "            \"content\": question,\n",
        "        }\n",
        "    ]\n",
        "\n",
        "    response = client.chat.completions.create(\n",
        "        model=MODEL,\n",
        "        messages=messages,\n",
        "        max_tokens=4096\n",
        "    )\n",
        "\n",
        "    return response.choices[0].message.content\n",
        "\n",
        "# Streamlit app title\n",
        "st.title(\"Sachin Tendulkar Chatbot\")\n",
        "\n",
        "# Display an image placeholder\n",
        "st.image(\"sachin.jpg\", width=700, caption=\"Sachin Tendulkar\")\n",
        "\n",
        "# Adjust CSS for padding and text wrapping\n",
        "st.markdown(\"\"\"\n",
        "<style>\n",
        ".block-container {\n",
        "    padding-top: 3rem;  /* Adjust this value as needed */\n",
        "    padding-bottom: 1rem; /* Ensure bottom content is visible */\n",
        "    padding-left: 1rem;\n",
        "    padding-right: 1rem;\n",
        "}\n",
        ".css-1r6slb0 {\n",
        "    white-space: normal !important;\n",
        "}\n",
        ".sidebar-text {\n",
        "    white-space: normal !important;\n",
        "    word-wrap: break-word;\n",
        "}\n",
        "</style>\n",
        "\"\"\", unsafe_allow_html=True)\n",
        "\n",
        "# Input box for user query\n",
        "query = st.text_input(\"Enter your query about Sachin Tendulkar:\")\n",
        "\n",
        "# Button to get response\n",
        "if st.button(\"Search\"):\n",
        "    if query:\n",
        "        # Get the response from the Groq model\n",
        "        response = get_groq_response(query)\n",
        "        # Display the response\n",
        "        st.write(\"Response:\", response)\n",
        "    else:\n",
        "        st.write(\"Please enter a query.\")\n",
        "\n",
        "# Additional Streamlit widgets for beautification\n",
        "st.sidebar.header(\"About This App\")\n",
        "st.sidebar.markdown('<div class=\"sidebar-text\">This app allows you to ask questions about the legendary cricketer Sachin Tendulkar. Feel free to explore and learn more about his career and achievements!</div>', unsafe_allow_html=True)\n",
        "\n",
        "# Add a footer\n",
        "st.markdown(\"---\")\n",
        "st.markdown(\"Made with ❤️ using Streamlit\")\n"
      ],
      "metadata": {
        "id": "525uLJLJKSBI"
      },
      "execution_count": null,
      "outputs": []
    },
    {
      "cell_type": "markdown",
      "source": [
        "**requirements.txt**"
      ],
      "metadata": {
        "id": "THNCdvCZNiEX"
      }
    },
    {
      "cell_type": "code",
      "source": [
        "  streamlit==1.27.2  # currently pinned to this version\n",
        "  groq\n"
      ],
      "metadata": {
        "id": "c66vrcPlOD0X"
      },
      "execution_count": null,
      "outputs": []
    },
    {
      "cell_type": "markdown",
      "source": [
        "**Code to run the application**"
      ],
      "metadata": {
        "id": "TjJBIa-lZE2_"
      }
    },
    {
      "cell_type": "code",
      "source": [
        "pip install -r requirements.txt\n",
        "streamlit run main.py"
      ],
      "metadata": {
        "id": "GQkeEWCpZJKW"
      },
      "execution_count": null,
      "outputs": []
    },
    {
      "cell_type": "markdown",
      "source": [
        "**Instructions**"
      ],
      "metadata": {
        "id": "hU__d3KaZRmi"
      }
    },
    {
      "cell_type": "markdown",
      "source": [
        "Download - Visual Studio Code - https://code.visualstudio.com/download\n",
        "\n",
        "python download - https://www.python.org/downloads/"
      ],
      "metadata": {
        "id": "TvJJvG9tUdj-"
      }
    },
    {
      "cell_type": "markdown",
      "source": [
        "**Or alternatively**"
      ],
      "metadata": {
        "id": "2ZAiTISPZWFP"
      }
    },
    {
      "cell_type": "markdown",
      "source": [
        "Open a Github Profile - create a private repo - open the repo in codespaces create the two files - open the terminal and run the code as given above"
      ],
      "metadata": {
        "id": "yt1uq6TzY58h"
      }
    },
    {
      "cell_type": "markdown",
      "source": [
        "**How to deploy from VS Code?**\n",
        "\n",
        "1. First Step: Create a Github Profile\n",
        "2. Create a New Public Repository\n",
        "3. Then go to your Vs Code Terminal Type the Below\n"
      ],
      "metadata": {
        "id": "f0si7glHoXTZ"
      }
    },
    {
      "cell_type": "code",
      "source": [
        "git init\n",
        "git add .\n",
        "git commit -m \"initial\"\n"
      ],
      "metadata": {
        "id": "AY3Tl3rBobNR"
      },
      "execution_count": null,
      "outputs": []
    },
    {
      "cell_type": "markdown",
      "source": [
        "4. Copy and paste the code from github for existing repo (3rd point)\n",
        "5. you can see the upload status in terminal\n"
      ],
      "metadata": {
        "id": "RYf6LseXoo3P"
      }
    },
    {
      "cell_type": "markdown",
      "source": [
        "**Deploying to Streamlit**\n",
        "\n",
        "1. Go to share.streamlit.io\n",
        "2. create an account\n",
        "3. link with github\n",
        "4. create an app ( existing app)\n",
        "5.select the repo\n",
        "6. select the file name\n",
        "7. click on deploy\n",
        "8. project will be loaded.\n"
      ],
      "metadata": {
        "id": "qo66NI4CqGPV"
      }
    }
  ]
}