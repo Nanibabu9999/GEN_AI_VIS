{
  "cells": [
    {
      "cell_type": "markdown",
      "source": [
        "For Testing In Visual Studio Code"
      ],
      "metadata": {
        "id": "CT3U_npNu6eg"
      }
    },
    {
      "cell_type": "markdown",
      "source": [
        "Image to Video\n",
        "**Filename** - main.py"
      ],
      "metadata": {
        "id": "RU4PAgajaabQ"
      }
    },
    {
      "cell_type": "markdown",
      "source": [],
      "metadata": {
        "id": "v3Sr1-6nu5Ew"
      }
    },
    {
      "cell_type": "code",
      "source": [
        "import streamlit as st\n",
        "import requests\n",
        "import logging\n",
        "import os\n",
        "import json\n",
        "from datetime import datetime\n",
        "from pydub import AudioSegment\n",
        "from io import BytesIO\n",
        "\n",
        "# Set up logging\n",
        "logging.basicConfig(level=logging.DEBUG)\n",
        "logger = logging.getLogger(__name__)\n",
        "\n",
        "# API endpoints\n",
        "CLONE_URL = \"https://api.play.ht/api/v2/cloned-voices/instant\"\n",
        "LIST_VOICES_URL = \"https://api.play.ht/api/v2/cloned-voices\"\n",
        "GENERATE_AUDIO_URL = \"https://api.play.ht/api/v2/tts/stream\"\n",
        "\n",
        "# Your credentials\n",
        "USER_ID = \"XEcRH9OhKHZW4sZ56xnjdcBqRww1\"\n",
        "API_KEY = \"5c52b572fb9e4665aa2ec70ca30b6da5\"\n",
        "\n",
        "# Create a folder for storing audio files\n",
        "AUDIO_FOLDER = \"generated_audio\"\n",
        "os.makedirs(AUDIO_FOLDER, exist_ok=True)\n",
        "\n",
        "# Function to convert MP3 to WAV\n",
        "def convert_mp3_to_wav(mp3_file, wav_file):\n",
        "    audio = AudioSegment.from_mp3(mp3_file)\n",
        "    audio.export(wav_file, format=\"wav\")\n",
        "\n",
        "# Function to upload and clone a voice sample\n",
        "def upload_voice_sample(file, voice_name):\n",
        "    # Set the correct content type based on the file extension\n",
        "    file_extension = file.name.split(\".\")[-1].lower()\n",
        "    content_type = f\"audio/{file_extension}\" if file_extension in [\"aac\", \"mpeg\", \"ogg\", \"wav\", \"webm\", \"flac\", \"midi\", \"mp4\", \"m4a\", \"wma\", \"amr\", \"aiff\"] else \"audio/wav\"\n",
        "\n",
        "    files = {\n",
        "        \"sample_file\": (file.name, file, content_type),  # Include content type in the file tuple\n",
        "        \"voice_name\": (None, voice_name)\n",
        "    }\n",
        "\n",
        "    headers = {\n",
        "        \"accept\": \"application/json\",\n",
        "        \"Authorization\": f\"Bearer {API_KEY}\",\n",
        "        \"X-User-Id\": USER_ID\n",
        "    }\n",
        "\n",
        "    response = requests.post(CLONE_URL, headers=headers, files=files)\n",
        "\n",
        "    # Print response details for debugging\n",
        "    print(\"Status Code:\", response.status_code)\n",
        "    print(\"Response Text:\", response.text)\n",
        "\n",
        "    return response.json()\n",
        "\n",
        "# Streamlit app\n",
        "st.title(\"Voice Cloning and Text-to-Speech App\")\n",
        "\n",
        "# Step 1: Clone a voice\n",
        "st.header(\"1. Clone a Voice\")\n",
        "voice_sample = st.file_uploader(\"Upload a voice sample (MP3, WAV, etc.)\", type=[\"wav\", \"mp3\", \"m4a\", \"ogg\"])\n",
        "\n",
        "if voice_sample:\n",
        "    voice_name = st.text_input(\"Enter a name for the cloned voice:\")\n",
        "    if st.button(\"Clone Voice\"):\n",
        "        with st.spinner(\"Cloning voice...\"):\n",
        "            clone_response = upload_voice_sample(voice_sample, voice_name)\n",
        "            if \"voice_id\" in clone_response:\n",
        "                st.success(\"Voice clone created successfully!\")\n",
        "                st.session_state.voice_id = clone_response[\"voice_id\"]\n",
        "                logger.info(f\"Voice cloning response: {clone_response}\")\n",
        "            else:\n",
        "                st.error(f\"If cloning succesful, the voice will be present in next section.\")\n",
        "                logger.error(f\"If cloning succesful, the voice will be present in next section.\")\n",
        "\n",
        "# Step 2: List cloned voices\n",
        "st.header(\"2. Select a Cloned Voice\")\n",
        "\n",
        "headers = {\n",
        "    \"accept\": \"application/json\",\n",
        "    \"X-User-ID\": USER_ID,\n",
        "    \"Authorization\": f\"Bearer {API_KEY}\"\n",
        "}\n",
        "\n",
        "try:\n",
        "    response = requests.get(LIST_VOICES_URL, headers=headers)\n",
        "    response.raise_for_status()\n",
        "    voices = response.json()\n",
        "    voice_options = [voice[\"id\"] for voice in voices]\n",
        "    selected_voice = st.selectbox(\"Choose a cloned voice\", voice_options)\n",
        "    logger.info(f\"Retrieved {len(voice_options)} voices\")\n",
        "except requests.exceptions.RequestException as e:\n",
        "    st.error(f\"Error fetching voices: {str(e)}\")\n",
        "    logger.error(f\"Error fetching voices: {str(e)}\")\n",
        "    selected_voice = None\n",
        "\n",
        "# Step 3: Text-to-Speech\n",
        "st.header(\"3. Text-to-Speech\")\n",
        "\n",
        "if selected_voice:\n",
        "    text_input = st.text_area(\"Enter text to convert to speech (max 2000 characters)\")\n",
        "\n",
        "    if st.button(\"Generate Speech\"):\n",
        "        if len(text_input) > 2000:\n",
        "            st.error(\"Text exceeds 2000 character limit. Please shorten your input.\")\n",
        "        else:\n",
        "            payload = {\n",
        "                \"text\": text_input,\n",
        "                \"voice\": selected_voice,\n",
        "                \"output_format\": \"mp3\",\n",
        "                \"voice_engine\": \"PlayHT2.0\"  # or \"PlayHT2.0-turbo\" for low latency\n",
        "            }\n",
        "            headers = {\n",
        "                \"accept\": \"audio/mpeg\",\n",
        "                \"content-type\": \"application/json\",\n",
        "                \"X-User-ID\": USER_ID,\n",
        "                \"Authorization\": f\"Bearer {API_KEY}\"\n",
        "            }\n",
        "\n",
        "            try:\n",
        "                with st.spinner(\"Generating audio...\"):\n",
        "                    response = requests.post(GENERATE_AUDIO_URL, json=payload, headers=headers, stream=True)\n",
        "                    response.raise_for_status()\n",
        "\n",
        "                    # Generate a unique filename\n",
        "                    timestamp = datetime.now().strftime(\"%Y%m%d_%H%M%S\")\n",
        "                    mp3_filename = f\"audio_{timestamp}.mp3\"\n",
        "                    mp3_filepath = os.path.join(AUDIO_FOLDER, mp3_filename)\n",
        "\n",
        "                    # Save the MP3 audio file\n",
        "                    with open(mp3_filepath, 'wb') as f:\n",
        "                        for chunk in response.iter_content(chunk_size=8192):\n",
        "                            f.write(chunk)\n",
        "\n",
        "                    # Convert the MP3 file to WAV\n",
        "                    wav_filename = f\"audio_{timestamp}.wav\"\n",
        "                    wav_filepath = os.path.join(AUDIO_FOLDER, wav_filename)\n",
        "                    convert_mp3_to_wav(mp3_filepath, wav_filepath)\n",
        "\n",
        "                    st.success(f\"Audio generated and saved as {wav_filename}\")\n",
        "\n",
        "            except requests.exceptions.RequestException as e:\n",
        "                st.error(f\"Error generating speech: {str(e)}\")\n",
        "                logger.error(f\"Error generating speech: {str(e)}\")\n",
        "else:\n",
        "    st.warning(\"Please select a cloned voice first.\")\n",
        "\n",
        "# Step 4: Play Generated Audio\n",
        "st.header(\"4. Play Generated Audio\")\n",
        "\n",
        "# Get list of WAV audio files\n",
        "audio_files = [f for f in os.listdir(AUDIO_FOLDER) if f.endswith('.wav')]\n",
        "\n",
        "if audio_files:\n",
        "    selected_audio = st.selectbox(\"Choose an audio file to play\", audio_files)\n",
        "\n",
        "    if st.button(\"Play Selected Audio\"):\n",
        "        audio_path = os.path.join(AUDIO_FOLDER, selected_audio)\n",
        "        st.audio(audio_path, format=\"audio/wav\")\n",
        "else:\n",
        "    st.info(\"No audio files available. Generate some audio first!\")\n",
        "\n",
        "# Display debug information\n",
        "if st.checkbox(\"Show Debug Info\"):\n",
        "    st.text(f\"User ID: {USER_ID}\")\n",
        "    st.text(f\"API Key: {API_KEY[:5]}...{API_KEY[-5:]})\")  # Show partial API key for security\n",
        "    st.text(f\"Selected Voice: {selected_voice}\")\n",
        "    st.text(f\"Text Input: {text_input}\")\n",
        "    st.text(f\"Available Audio Files: {audio_files}\")\n"
      ],
      "metadata": {
        "id": "3UNFM9YF8LrP"
      },
      "execution_count": null,
      "outputs": []
    },
    {
      "cell_type": "markdown",
      "source": [
        "**File name** - requirements.txt"
      ],
      "metadata": {
        "id": "XxERY6AFLjkH"
      }
    },
    {
      "cell_type": "code",
      "source": [
        "streamlit\n",
        "pydub\n",
        "requests"
      ],
      "metadata": {
        "id": "t869O37rpSe0"
      },
      "execution_count": null,
      "outputs": []
    },
    {
      "cell_type": "code",
      "source": [
        "pip install -r requirements.txt"
      ],
      "metadata": {
        "id": "60pAvax4DAuL"
      },
      "execution_count": null,
      "outputs": []
    },
    {
      "cell_type": "code",
      "source": [
        "streamlit run main.py\n",
        "\n",
        "or\n",
        "\n",
        "python -m streamlit run main.py"
      ],
      "metadata": {
        "id": "_PHOvMlep1nf"
      },
      "execution_count": null,
      "outputs": []
    },
    {
      "cell_type": "code",
      "source": [],
      "metadata": {
        "id": "-4qURrLDb6wW"
      },
      "execution_count": null,
      "outputs": []
    }
  ],
  "metadata": {
    "colab": {
      "provenance": []
    },
    "kernelspec": {
      "display_name": "Python 3",
      "name": "python3"
    },
    "language_info": {
      "name": "python"
    }
  },
  "nbformat": 4,
  "nbformat_minor": 0
}