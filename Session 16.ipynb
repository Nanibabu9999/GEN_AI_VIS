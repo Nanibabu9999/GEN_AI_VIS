{
  "nbformat": 4,
  "nbformat_minor": 0,
  "metadata": {
    "colab": {
      "provenance": []
    },
    "kernelspec": {
      "name": "python3",
      "display_name": "Python 3"
    },
    "language_info": {
      "name": "python"
    }
  },
  "cells": [
    {
      "cell_type": "markdown",
      "source": [
        "Delete Functionality"
      ],
      "metadata": {
        "id": "OC7pkGw2HZd_"
      }
    },
    {
      "cell_type": "markdown",
      "source": [
        "**main.py**"
      ],
      "metadata": {
        "id": "V3gTNzhdNOgr"
      }
    },
    {
      "cell_type": "code",
      "source": [
        "from fastcore.parallel import threaded\n",
        "from fasthtml.common import *\n",
        "import uuid, os, uvicorn, requests\n",
        "from PIL import Image\n",
        "import io\n",
        "from dotenv import load_dotenv\n",
        "\n",
        "# Load environment variables from .env file\n",
        "load_dotenv()\n",
        "API_KEY = os.getenv(\"HUGGINGFACE_API_KEY\")\n",
        "API_URL = \"https://api-inference.huggingface.co/models/alvdansen/littletinies\"\n",
        "headers = {\"Authorization\": f\"Bearer {API_KEY}\"}\n",
        "\n",
        "# Function to query the Hugging Face API\n",
        "def query(payload):\n",
        "    response = requests.post(API_URL, headers=headers, json=payload)\n",
        "    return response.content\n",
        "\n",
        "# Database setup\n",
        "tables = database('data/gens.db').t\n",
        "gens = tables.gens\n",
        "if not gens in tables:\n",
        "    gens.create(prompt=str, id=int, folder=str, pk='id')\n",
        "Generation = gens.dataclass()\n",
        "\n",
        "# Flexbox CSS (http://flexboxgrid.com/)\n",
        "gridlink = Link(rel=\"stylesheet\", href=\"https://cdnjs.cloudflare.com/ajax/libs/flexboxgrid/6.3.1/flexboxgrid.min.css\", type=\"text/css\")\n",
        "\n",
        "# Our FastHTML app\n",
        "app = FastHTML(hdrs=(picolink, gridlink))\n",
        "\n",
        "# Main page\n",
        "@app.get(\"/\")\n",
        "def home():\n",
        "    inp = Input(id=\"new-prompt\", name=\"prompt\", placeholder=\"Enter a prompt\")\n",
        "    add = Form(Group(inp, Button(\"Generate\")), hx_post=\"/\", target_id='gen-list', hx_swap=\"afterbegin\")\n",
        "    gen_containers = [generation_preview(g) for g in gens(limit=10)]  # Start with last 10\n",
        "    gen_list = Div(*reversed(gen_containers), id='gen-list', cls=\"row\")  # flexbox container: class = row\n",
        "    return Title('Image Generation Demo'), Main(H1('Magic Image Generation'), add, gen_list, cls='container')\n",
        "\n",
        "# Show the image (if available) and prompt for a generation\n",
        "def generation_preview(g):\n",
        "    grid_cls = \"box col-xs-12 col-sm-6 col-md-4 col-lg-3\"\n",
        "    image_path = f\"{g.folder}/{g.id}.png\"\n",
        "    delete_button = Button(\"Delete\", hx_delete=f\"/gens/{g.id}\", hx_confirm=\"Are you sure you want to delete this image?\", hx_target=f'#gen-{g.id}', hx_swap=\"outerHTML\", hx_trigger=\"click\")\n",
        "    if os.path.exists(image_path):\n",
        "        return Div(Card(\n",
        "                       Img(src=image_path, alt=\"Card image\", cls=\"card-img-top\"),\n",
        "                       Div(P(B(\"Prompt: \"), g.prompt, cls=\"card-text\"), cls=\"card-body\"),\n",
        "                       delete_button\n",
        "                   ), id=f'gen-{g.id}', cls=grid_cls)\n",
        "    return Div(f\"Generating gen {g.id} with prompt {g.prompt}\",\n",
        "            id=f'gen-{g.id}', hx_get=f\"/gens/{g.id}\",\n",
        "            hx_trigger=\"every 2s\", hx_swap=\"outerHTML\", cls=grid_cls)\n",
        "\n",
        "# A pending preview keeps polling this route until we return the image preview\n",
        "@app.get(\"/gens/{id}\")\n",
        "def preview(id:int):\n",
        "    return generation_preview(gens.get(id))\n",
        "\n",
        "# For images, CSS, etc.\n",
        "@app.get(\"/{fname:path}.{ext:static}\")\n",
        "def static(fname:str, ext:str): return FileResponse(f'{fname}.{ext}')\n",
        "\n",
        "# Generation route\n",
        "@app.post(\"/\")\n",
        "def post(prompt:str):\n",
        "    folder = f\"data/gens/{str(uuid.uuid4())}\"\n",
        "    os.makedirs(folder, exist_ok=True)\n",
        "    g = gens.insert(Generation(prompt=prompt, folder=folder))\n",
        "    generate_and_save(g.prompt, g.id, g.folder)\n",
        "    clear_input = Input(id=\"new-prompt\", name=\"prompt\", placeholder=\"Enter a prompt\", hx_swap_oob='true')\n",
        "    return generation_preview(g), clear_input\n",
        "\n",
        "# Delete route\n",
        "@app.delete(\"/gens/{id}\")\n",
        "def delete_gen(id:int):\n",
        "    gen = gens.get(id)\n",
        "    if gen:\n",
        "        image_path = f\"{gen.folder}/{gen.id}.png\"\n",
        "        if os.path.exists(image_path):\n",
        "            os.remove(image_path)\n",
        "        gens.delete(id)\n",
        "    return \"Hit Refresh!\"\n",
        "\n",
        "# Generate an image and save it to the folder (in a separate thread)\n",
        "@threaded\n",
        "def generate_and_save(prompt, id, folder):\n",
        "    image_bytes = query({\"inputs\": prompt})\n",
        "    image = Image.open(io.BytesIO(image_bytes))\n",
        "    image.save(f\"{folder}/{id}.png\")\n",
        "    return True\n",
        "\n",
        "if __name__ == '__main__':\n",
        "    uvicorn.run(\"main:app\", host='0.0.0.0', port=int(os.getenv(\"PORT\", default=8000)))\n"
      ],
      "metadata": {
        "id": "525uLJLJKSBI"
      },
      "execution_count": null,
      "outputs": []
    },
    {
      "cell_type": "markdown",
      "source": [
        "Image Counter Functionality"
      ],
      "metadata": {
        "id": "luRAkeDFmKbz"
      }
    },
    {
      "cell_type": "markdown",
      "source": [
        "Replace main.py"
      ],
      "metadata": {
        "id": "Fz8BkiO4189C"
      }
    },
    {
      "cell_type": "code",
      "source": [
        "from fastcore.parallel import threaded\n",
        "from fasthtml.common import *\n",
        "import uuid, os, uvicorn, requests, glob\n",
        "from PIL import Image\n",
        "import io\n",
        "from dotenv import load_dotenv\n",
        "\n",
        "# Load environment variables from .env file\n",
        "load_dotenv()\n",
        "API_KEY = os.getenv(\"HUGGINGFACE_API_KEY\")\n",
        "API_URL = \"https://api-inference.huggingface.co/models/alvdansen/littletinies\"\n",
        "headers = {\"Authorization\": f\"Bearer {API_KEY}\"}\n",
        "\n",
        "# Function to query the Hugging Face API\n",
        "def query(payload):\n",
        "    response = requests.post(API_URL, headers=headers, json=payload)\n",
        "    return response.content\n",
        "\n",
        "# Database setup\n",
        "tables = database('data/gens.db').t\n",
        "gens = tables.gens\n",
        "if not gens in tables:\n",
        "    gens.create(prompt=str, id=int, folder=str, pk='id')\n",
        "Generation = gens.dataclass()\n",
        "\n",
        "# Flexbox CSS (http://flexboxgrid.com/)\n",
        "gridlink = Link(rel=\"stylesheet\", href=\"https://cdnjs.cloudflare.com/ajax/libs/flexboxgrid/6.3.1/flexboxgrid.min.css\", type=\"text/css\")\n",
        "\n",
        "# Our FastHTML app\n",
        "app = FastHTML(hdrs=(picolink, gridlink))\n",
        "\n",
        "# Main page\n",
        "@app.get(\"/\")\n",
        "def home():\n",
        "    inp = Input(id=\"new-prompt\", name=\"prompt\", placeholder=\"Enter a prompt\")\n",
        "    add = Form(Group(inp, Button(\"Generate\")), hx_post=\"/\", target_id='gen-list', hx_swap=\"afterbegin\")\n",
        "    gen_containers = [generation_preview(g) for g in gens(limit=10)]  # Start with last 10\n",
        "    gen_list = Div(*reversed(gen_containers), id='gen-list', cls=\"row\")  # flexbox container: class = row\n",
        "\n",
        "    # Display the number of images\n",
        "    image_count_div = Div(id='image-count', hx_get=\"/image_count\", hx_trigger=\"load\", hx_swap=\"innerHTML\")\n",
        "\n",
        "    return Title('Image Generation Demo'), Main(\n",
        "        H1('Magic Image Generation'),\n",
        "        add,\n",
        "        image_count_div,  # Add the image count display\n",
        "        gen_list,\n",
        "        cls='container'\n",
        "    )\n",
        "\n",
        "# Show the image (if available) and prompt for a generation\n",
        "def generation_preview(g):\n",
        "    grid_cls = \"box col-xs-12 col-sm-6 col-md-4 col-lg-3\"\n",
        "    image_path = f\"{g.folder}/{g.id}.png\"\n",
        "    delete_button = Button(\"Delete\", hx_delete=f\"/gens/{g.id}\", hx_confirm=\"Are you sure you want to delete this image?\", hx_target=f'#gen-{g.id}', hx_swap=\"outerHTML\", hx_trigger=\"click\")\n",
        "    if os.path.exists(image_path):\n",
        "        return Div(Card(\n",
        "                       Img(src=image_path, alt=\"Card image\", cls=\"card-img-top\"),\n",
        "                       Div(P(B(\"Prompt: \"), g.prompt, cls=\"card-text\"), cls=\"card-body\"),\n",
        "                       delete_button\n",
        "                   ), id=f'gen-{g.id}', cls=grid_cls)\n",
        "    return Div(f\"Generating gen {g.id} with prompt {g.prompt}\",\n",
        "            id=f'gen-{g.id}', hx_get=f\"/gens/{g.id}\",\n",
        "            hx_trigger=\"every 2s\", hx_swap=\"outerHTML\", cls=grid_cls)\n",
        "\n",
        "# A pending preview keeps polling this route until we return the image preview\n",
        "@app.get(\"/gens/{id}\")\n",
        "def preview(id:int):\n",
        "    return generation_preview(gens.get(id))\n",
        "\n",
        "# For images, CSS, etc.\n",
        "@app.get(\"/{fname:path}.{ext:static}\")\n",
        "def static(fname:str, ext:str):\n",
        "    return FileResponse(f'{fname}.{ext}')\n",
        "\n",
        "# Generation route\n",
        "@app.post(\"/\")\n",
        "def post(prompt:str):\n",
        "    folder = f\"data/gens/{str(uuid.uuid4())}\"\n",
        "    os.makedirs(folder, exist_ok=True)\n",
        "    g = gens.insert(Generation(prompt=prompt, folder=folder))\n",
        "    generate_and_save(g.prompt, g.id, g.folder)\n",
        "    clear_input = Input(id=\"new-prompt\", name=\"prompt\", placeholder=\"Enter a prompt\", hx_swap_oob='true')\n",
        "    return generation_preview(g), clear_input\n",
        "\n",
        "# Delete route\n",
        "@app.delete(\"/gens/{id}\")\n",
        "def delete_gen(id:int):\n",
        "    gen = gens.get(id)\n",
        "    if gen:\n",
        "        image_path = f\"{gen.folder}/{gen.id}.png\"\n",
        "        if os.path.exists(image_path):\n",
        "            os.remove(image_path)\n",
        "        gens.delete(id)\n",
        "    return \"Hit Refresh!\"\n",
        "\n",
        "# Generate an image and save it to the folder (in a separate thread)\n",
        "@threaded\n",
        "def generate_and_save(prompt, id, folder):\n",
        "    image_bytes = query({\"inputs\": prompt})\n",
        "    image = Image.open(io.BytesIO(image_bytes))\n",
        "    image.save(f\"{folder}/{id}.png\")\n",
        "    return True\n",
        "\n",
        "# Count PNG images\n",
        "@app.get(\"/image_count\")\n",
        "def image_count():\n",
        "    png_files = glob.glob(\"data/gens/**/*.png\", recursive=True)\n",
        "    count = len(png_files)\n",
        "    return f\"Number of images generated: {count}\"\n",
        "\n",
        "if __name__ == '__main__':\n",
        "    uvicorn.run(\"main:app\", host='0.0.0.0', port=int(os.getenv(\"PORT\", default=8000)))\n"
      ],
      "metadata": {
        "id": "PVSCID4wmBRR"
      },
      "execution_count": null,
      "outputs": []
    },
    {
      "cell_type": "markdown",
      "source": [
        "Free Image Counter"
      ],
      "metadata": {
        "id": "9fauZ7jrvTyL"
      }
    },
    {
      "cell_type": "code",
      "source": [
        "from fastcore.parallel import threaded\n",
        "from fasthtml.common import *\n",
        "import uuid, os, uvicorn, requests, glob\n",
        "from PIL import Image\n",
        "import io\n",
        "from dotenv import load_dotenv\n",
        "\n",
        "# Load environment variables from .env file\n",
        "load_dotenv()\n",
        "API_KEY = os.getenv(\"HUGGINGFACE_API_KEY\")\n",
        "API_URL = \"https://api-inference.huggingface.co/models/alvdansen/littletinies\"\n",
        "headers = {\"Authorization\": f\"Bearer {API_KEY}\"}\n",
        "\n",
        "# Function to query the Hugging Face API\n",
        "def query(payload):\n",
        "    response = requests.post(API_URL, headers=headers, json=payload)\n",
        "    return response.content\n",
        "\n",
        "# Database setup\n",
        "tables = database('data/gens.db').t\n",
        "gens = tables.gens\n",
        "if not gens in tables:\n",
        "    gens.create(prompt=str, id=int, folder=str, pk='id')\n",
        "Generation = gens.dataclass()\n",
        "\n",
        "# Flexbox CSS (http://flexboxgrid.com/)\n",
        "gridlink = Link(rel=\"stylesheet\", href=\"https://cdnjs.cloudflare.com/ajax/libs/flexboxgrid/6.3.1/flexboxgrid.min.css\", type=\"text/css\")\n",
        "\n",
        "# Our FastHTML app\n",
        "app = FastHTML(hdrs=(picolink, gridlink))\n",
        "\n",
        "# Main page\n",
        "@app.get(\"/\")\n",
        "def home():\n",
        "    inp = Input(id=\"new-prompt\", name=\"prompt\", placeholder=\"Enter a prompt\")\n",
        "    add = Form(Group(inp, Button(\"Generate\")), hx_post=\"/\", target_id='gen-list', hx_swap=\"afterbegin\")\n",
        "    gen_containers = [generation_preview(g) for g in gens(limit=2)]  # Start with last 2\n",
        "    gen_list = Div(*reversed(gen_containers), id='gen-list', cls=\"row\")  # flexbox container: class = row\n",
        "\n",
        "    # Display the number of images\n",
        "    image_count_div = Div(id='image-count', hx_get=\"/image_count\", hx_trigger=\"load\", hx_swap=\"innerHTML\")\n",
        "\n",
        "    return Title('Image Generation Demo'), Main(\n",
        "        H1('Magic Image Generation'),\n",
        "        add,\n",
        "        image_count_div,  # Add the image count display\n",
        "        gen_list,\n",
        "        cls='container'\n",
        "    )\n",
        "\n",
        "# Show the image (if available) and prompt for a generation\n",
        "def generation_preview(g):\n",
        "    grid_cls = \"box col-xs-12 col-sm-6 col-md-4 col-lg-3\"\n",
        "    image_path = f\"{g.folder}/{g.id}.png\"\n",
        "    delete_button = Button(\"Delete\", hx_delete=f\"/gens/{g.id}\", hx_confirm=\"Are you sure you want to delete this image?\", hx_target=f'#gen-{g.id}', hx_swap=\"outerHTML\", hx_trigger=\"click\")\n",
        "    if os.path.exists(image_path):\n",
        "        return Div(Card(\n",
        "                       Img(src=image_path, alt=\"Card image\", cls=\"card-img-top\"),\n",
        "                       Div(P(B(\"Prompt: \"), g.prompt, cls=\"card-text\"), cls=\"card-body\"),\n",
        "                       delete_button\n",
        "                   ), id=f'gen-{g.id}', cls=grid_cls)\n",
        "    return Div(f\"Generating gen {g.id} with prompt {g.prompt}\",\n",
        "            id=f'gen-{g.id}', hx_get=f\"/gens/{g.id}\",\n",
        "            hx_trigger=\"every 2s\", hx_swap=\"outerHTML\", cls=grid_cls)\n",
        "\n",
        "# A pending preview keeps polling this route until we return the image preview\n",
        "@app.get(\"/gens/{id}\")\n",
        "def preview(id:int):\n",
        "    return generation_preview(gens.get(id))\n",
        "\n",
        "# For images, CSS, etc.\n",
        "@app.get(\"/{fname:path}.{ext:static}\")\n",
        "def static(fname:str, ext:str):\n",
        "    return FileResponse(f'{fname}.{ext}')\n",
        "\n",
        "# Generation route\n",
        "@app.post(\"/\")\n",
        "def post(prompt:str):\n",
        "    if count_free_images() >= 2:\n",
        "        return \"Free limit reached! <a href='https://example.com/upgrade'>Upgrade Now</a>\"\n",
        "\n",
        "    folder = f\"data/gens/{str(uuid.uuid4())}\"\n",
        "    os.makedirs(folder, exist_ok=True)\n",
        "    g = gens.insert(Generation(prompt=prompt, folder=folder))\n",
        "    generate_and_save(g.prompt, g.id, g.folder)\n",
        "    clear_input = Input(id=\"new-prompt\", name=\"prompt\", placeholder=\"Enter a prompt\", hx_swap_oob='true')\n",
        "    return generation_preview(g), clear_input\n",
        "\n",
        "# Delete route\n",
        "@app.delete(\"/gens/{id}\")\n",
        "def delete_gen(id:int):\n",
        "    gen = gens.get(id)\n",
        "    if gen:\n",
        "        image_path = f\"{gen.folder}/{gen.id}.png\"\n",
        "        if os.path.exists(image_path):\n",
        "            os.remove(image_path)\n",
        "        gens.delete(id)\n",
        "    return \"Hit Refresh!\"\n",
        "\n",
        "# Generate an image and save it to the folder (in a separate thread)\n",
        "@threaded\n",
        "def generate_and_save(prompt, id, folder):\n",
        "    image_bytes = query({\"inputs\": prompt})\n",
        "    image = Image.open(io.BytesIO(image_bytes))\n",
        "    image.save(f\"{folder}/{id}.png\")\n",
        "    return True\n",
        "\n",
        "# Count PNG images\n",
        "@app.get(\"/image_count\")\n",
        "def image_count():\n",
        "    count = count_free_images()\n",
        "    if count >= 2:\n",
        "        return \"Free limit reached! <a href='https://example.com/upgrade'>Upgrade Now</a>\"\n",
        "    return f\"Number of images generated: {count}/2\"\n",
        "\n",
        "def count_free_images():\n",
        "    png_files = glob.glob(\"data/gens/**/*.png\", recursive=True)\n",
        "    return len(png_files)\n",
        "\n",
        "if __name__ == '__main__':\n",
        "    uvicorn.run(\"main:app\", host='0.0.0.0', port=int(os.getenv(\"PORT\", default=8000)))\n"
      ],
      "metadata": {
        "id": "4KiCTpcjtmgz"
      },
      "execution_count": null,
      "outputs": []
    },
    {
      "cell_type": "markdown",
      "source": [
        "**.env**"
      ],
      "metadata": {
        "id": "NuGHgPLbnNjC"
      }
    },
    {
      "cell_type": "code",
      "source": [
        "HUGGINGFACE_API_KEY="
      ],
      "metadata": {
        "id": "o1OwbNgRnRB8"
      },
      "execution_count": null,
      "outputs": []
    },
    {
      "cell_type": "markdown",
      "source": [
        "**requirements.txt**"
      ],
      "metadata": {
        "id": "THNCdvCZNiEX"
      }
    },
    {
      "cell_type": "code",
      "source": [
        "fastcore\n",
        "python-fasthtml\n",
        "uvicorn\n",
        "requests\n",
        "Pillow\n",
        "python-dotenv"
      ],
      "metadata": {
        "id": "c66vrcPlOD0X"
      },
      "execution_count": null,
      "outputs": []
    },
    {
      "cell_type": "markdown",
      "source": [
        "**.gitignore**"
      ],
      "metadata": {
        "id": "wG0Uk-Mt1hbm"
      }
    },
    {
      "cell_type": "code",
      "source": [
        ".env\n"
      ],
      "metadata": {
        "id": "7jzzplti1myW"
      },
      "execution_count": null,
      "outputs": []
    },
    {
      "cell_type": "markdown",
      "source": [
        "**Code to run the application**"
      ],
      "metadata": {
        "id": "TjJBIa-lZE2_"
      }
    },
    {
      "cell_type": "code",
      "source": [
        "pip install -r requirements.txt\n",
        "python3 main.py"
      ],
      "metadata": {
        "id": "GQkeEWCpZJKW"
      },
      "execution_count": null,
      "outputs": []
    },
    {
      "cell_type": "markdown",
      "source": [
        "**Instructions**"
      ],
      "metadata": {
        "id": "hU__d3KaZRmi"
      }
    },
    {
      "cell_type": "markdown",
      "source": [
        "Download - Visual Studio Code - https://code.visualstudio.com/download\n",
        "\n",
        "python download - https://www.python.org/downloads/"
      ],
      "metadata": {
        "id": "TvJJvG9tUdj-"
      }
    },
    {
      "cell_type": "markdown",
      "source": [
        "**Or alternatively**"
      ],
      "metadata": {
        "id": "2ZAiTISPZWFP"
      }
    },
    {
      "cell_type": "markdown",
      "source": [
        "Open a Github Profile - create a private repo - open the repo in codespaces create the two files - open the terminal and run the code as given above"
      ],
      "metadata": {
        "id": "yt1uq6TzY58h"
      }
    },
    {
      "cell_type": "markdown",
      "source": [
        "**How to deploy from VS Code?**\n",
        "\n",
        "1. First Step: Create a Github Profile\n",
        "2. Create a New Public Repository\n",
        "3. Then go to your Vs Code Terminal Type the Below\n"
      ],
      "metadata": {
        "id": "f0si7glHoXTZ"
      }
    },
    {
      "cell_type": "code",
      "source": [
        "git init\n",
        "git add .\n",
        "git commit -m \"initial\"\n"
      ],
      "metadata": {
        "id": "AY3Tl3rBobNR"
      },
      "execution_count": null,
      "outputs": []
    },
    {
      "cell_type": "markdown",
      "source": [
        "4. Copy and paste the code from github for existing repo (3rd point)\n",
        "5. you can see the upload status in terminal\n"
      ],
      "metadata": {
        "id": "RYf6LseXoo3P"
      }
    },
    {
      "cell_type": "markdown",
      "source": [
        "once you are making any changes after deploying to github. The new changes made to the code in local file. can be pushed to the github through below lines. run it in terminal"
      ],
      "metadata": {
        "id": "GF3UQfwDnYPq"
      }
    },
    {
      "cell_type": "code",
      "source": [
        "git add .\n",
        "git commit -m \"changes\"\n",
        "git push"
      ],
      "metadata": {
        "id": "ue92j2h3nmz2"
      },
      "execution_count": null,
      "outputs": []
    },
    {
      "cell_type": "markdown",
      "source": [
        "Open the github code in codespaces\n",
        "\n",
        "\n",
        "pip install -r requirements.txt\n",
        "python3 main.py\n",
        "open port\n",
        "open the link\n",
        "and change the privacy link to public\n",
        "\n",
        "and save the link and share!"
      ],
      "metadata": {
        "id": "BdGMkfmVLcF2"
      }
    },
    {
      "cell_type": "code",
      "source": [],
      "metadata": {
        "id": "CKu-lzzDLflm"
      },
      "execution_count": null,
      "outputs": []
    }
  ]
}