{
  "cells": [
    {
      "cell_type": "markdown",
      "source": [
        "For Testing In Visual Studio Code"
      ],
      "metadata": {
        "id": "CT3U_npNu6eg"
      }
    },
    {
      "cell_type": "markdown",
      "source": [
        "Image to Video\n",
        "**Filename** - main.py"
      ],
      "metadata": {
        "id": "RU4PAgajaabQ"
      }
    },
    {
      "cell_type": "markdown",
      "source": [],
      "metadata": {
        "id": "v3Sr1-6nu5Ew"
      }
    },
    {
      "cell_type": "code",
      "source": [
        "import streamlit as st\n",
        "from novita_client import NovitaClient\n",
        "from PIL import Image\n",
        "from io import BytesIO\n",
        "import base64\n",
        "\n",
        "# Initialize NovitaClient\n",
        "client = NovitaClient(\"25c1fbb4-9896-45fa-b81f-eaf749bd0b36\")\n",
        "\n",
        "st.title(\"Image to Video Generator\")\n",
        "\n",
        "# Upload image\n",
        "uploaded_file = st.file_uploader(\"Choose an image...\", type=[\"jpg\", \"jpeg\", \"png\"])\n",
        "\n",
        "if uploaded_file is not None:\n",
        "    # Open and display the uploaded image\n",
        "    image = Image.open(uploaded_file)\n",
        "    st.image(image, caption=\"Uploaded Image\", use_column_width=True)\n",
        "\n",
        "    # Resize image if necessary\n",
        "    max_width = 576\n",
        "    max_height = 1024\n",
        "    img_width, img_height = image.size\n",
        "\n",
        "    if img_width > max_width or img_height > max_height:\n",
        "        aspect_ratio = img_width / img_height\n",
        "        if img_width > max_width:\n",
        "            img_width = max_width\n",
        "            img_height = int(img_width / aspect_ratio)\n",
        "        if img_height > max_height:\n",
        "            img_height = max_height\n",
        "            img_width = int(img_height * aspect_ratio)\n",
        "        image = image.resize((img_width, img_height), Image.LANCZOS)\n",
        "\n",
        "    # Convert image to base64\n",
        "    buffered = BytesIO()\n",
        "    image.save(buffered, format=\"JPEG\")\n",
        "    image_base64 = base64.b64encode(buffered.getvalue()).decode('utf-8')\n",
        "    image_data = f\"data:image/jpeg;base64,{image_base64}\"\n",
        "\n",
        "    # Generate video\n",
        "    if st.button(\"Generate Video\"):\n",
        "        res = client.img2video(\n",
        "            model_name=\"SVD-XT\",\n",
        "            image=image_data,\n",
        "            frames_num=25,\n",
        "            frames_per_second=6,\n",
        "            seed=-1,\n",
        "            image_file_resize_mode=\"ORIGINAL_RESOLUTION\",\n",
        "            steps=20\n",
        "        )\n",
        "\n",
        "        # Save and display video\n",
        "        video_bytes = res.video_bytes[0]\n",
        "        video_file = BytesIO(video_bytes)\n",
        "        st.video(video_file)\n",
        "        st.success(\"Video generated successfully!\")\n"
      ],
      "metadata": {
        "id": "3UNFM9YF8LrP"
      },
      "execution_count": null,
      "outputs": []
    },
    {
      "cell_type": "markdown",
      "source": [
        "**File name** - requirements.txt"
      ],
      "metadata": {
        "id": "XxERY6AFLjkH"
      }
    },
    {
      "cell_type": "code",
      "source": [
        "streamlit\n",
        "Pillow\n",
        "novita-client"
      ],
      "metadata": {
        "id": "t869O37rpSe0"
      },
      "execution_count": null,
      "outputs": []
    },
    {
      "cell_type": "code",
      "source": [
        "pip install -r requirements.txt"
      ],
      "metadata": {
        "id": "60pAvax4DAuL"
      },
      "execution_count": null,
      "outputs": []
    },
    {
      "cell_type": "code",
      "source": [
        "streamlit run main.py\n",
        "\n",
        "or\n",
        "\n",
        "python -m streamlit run main.py"
      ],
      "metadata": {
        "id": "_PHOvMlep1nf"
      },
      "execution_count": null,
      "outputs": []
    },
    {
      "cell_type": "code",
      "source": [],
      "metadata": {
        "id": "-4qURrLDb6wW"
      },
      "execution_count": null,
      "outputs": []
    }
  ],
  "metadata": {
    "colab": {
      "provenance": []
    },
    "kernelspec": {
      "display_name": "Python 3",
      "name": "python3"
    },
    "language_info": {
      "name": "python"
    }
  },
  "nbformat": 4,
  "nbformat_minor": 0
}